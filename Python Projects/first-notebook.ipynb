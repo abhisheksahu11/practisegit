{
 "cells": [
  {
   "cell_type": "markdown",
   "id": "1bdb1d5a-2dea-4e56-9950-4c5c0aab51f9",
   "metadata": {},
   "source": [
    "### Create Acronyms using Python"
   ]
  },
  {
   "cell_type": "code",
   "execution_count": 27,
   "id": "d0ac19b1-ddee-47b0-a674-cd20850e3d8c",
   "metadata": {},
   "outputs": [
    {
     "name": "stdin",
     "output_type": "stream",
     "text": [
      " enter the string  kuyu mjk\n"
     ]
    },
    {
     "name": "stdout",
     "output_type": "stream",
     "text": [
      "KM\n"
     ]
    }
   ],
   "source": [
    "user_string = str(input(\" enter the string \"))\n",
    "a = \"\"\n",
    "words = user_string.split()\n",
    "for i in words:\n",
    "    a = a + i[0].upper()\n",
    "    \n",
    "print(a) "
   ]
  },
  {
   "cell_type": "markdown",
   "id": "e7349f45-2289-4703-a94b-ee0a34e66cd4",
   "metadata": {},
   "source": [
    "### Alarm Clock with Python"
   ]
  },
  {
   "cell_type": "code",
   "execution_count": 23,
   "id": "7a405267-35ad-457b-ac25-e407c655dbe3",
   "metadata": {},
   "outputs": [
    {
     "name": "stdout",
     "output_type": "stream",
     "text": [
      "Defaulting to user installation because normal site-packages is not writeable\n",
      "Looking in links: /usr/share/pip-wheels\n",
      "Collecting playsound\n",
      "  Downloading playsound-1.3.0.tar.gz (7.7 kB)\n",
      "  Preparing metadata (setup.py) ... \u001b[?25ldone\n",
      "\u001b[?25hBuilding wheels for collected packages: playsound\n",
      "  Building wheel for playsound (setup.py) ... \u001b[?25ldone\n",
      "\u001b[?25h  Created wheel for playsound: filename=playsound-1.3.0-py3-none-any.whl size=7022 sha256=f603ecd730427ba6e8be22eefa159dbea5a2cd5cec0708b14f6939bac7128687\n",
      "  Stored in directory: /home/72f85754-6720-4073-b735-84edb54ad3dd/.cache/pip/wheels/50/98/42/62753a9e1fb97579a0ce2f84f7db4c21c09d03bb2091e6cef4\n",
      "Successfully built playsound\n",
      "Installing collected packages: playsound\n",
      "Successfully installed playsound-1.3.0\n",
      "Note: you may need to restart the kernel to use updated packages.\n"
     ]
    }
   ],
   "source": [
    "pip install playsound"
   ]
  },
  {
   "cell_type": "code",
   "execution_count": 40,
   "id": "0e1b24bc-9bc5-4678-84ac-68f6c65036ce",
   "metadata": {},
   "outputs": [
    {
     "name": "stdout",
     "output_type": "stream",
     "text": [
      "Defaulting to user installation because normal site-packages is not writeable\n",
      "Looking in links: /usr/share/pip-wheels\n",
      "Collecting PyGObject\n",
      "  Downloading pygobject-3.50.0.tar.gz (1.1 MB)\n",
      "\u001b[2K     \u001b[38;5;70m━━━━━━━━━━━━━━━━━━━━━━━━━━━━━━━━━━━━━━━━\u001b[0m \u001b[32m1.1/1.1 MB\u001b[0m \u001b[31m12.2 MB/s\u001b[0m eta \u001b[36m0:00:00\u001b[0m\u001b[36m0:00:01\u001b[0m[36m0:00:01\u001b[0m\n",
      "\u001b[?25h  Installing build dependencies ... \u001b[?25ldone\n",
      "\u001b[?25h  Getting requirements to build wheel ... \u001b[?25ldone\n",
      "\u001b[?25h  Installing backend dependencies ... \u001b[?25ldone\n",
      "\u001b[?25h  Preparing metadata (pyproject.toml) ... \u001b[?25ldone\n",
      "\u001b[?25hCollecting pycairo>=1.16 (from PyGObject)\n",
      "  Using cached pycairo-1.27.0-cp311-cp311-linux_x86_64.whl\n",
      "Building wheels for collected packages: PyGObject\n",
      "  Building wheel for PyGObject (pyproject.toml) ... \u001b[?25ldone\n",
      "\u001b[?25h  Created wheel for PyGObject: filename=pygobject-3.50.0-cp311-cp311-linux_x86_64.whl size=272290 sha256=fffa8d36668869475f8b78dda8413484a7f22f7c7a8bf73d4bd5262f67cec920\n",
      "  Stored in directory: /home/72f85754-6720-4073-b735-84edb54ad3dd/.cache/pip/wheels/25/64/f7/97defd29191ebc8548ffd4d56827366702ac434f198966e21c\n",
      "Successfully built PyGObject\n",
      "Installing collected packages: pycairo, PyGObject\n",
      "Successfully installed PyGObject-3.50.0 pycairo-1.27.0\n"
     ]
    }
   ],
   "source": [
    "!pip install PyGObject\n",
    "\n"
   ]
  },
  {
   "cell_type": "code",
   "execution_count": 89,
   "id": "9a1baeff-4bd4-4da7-8900-788b53c25044",
   "metadata": {},
   "outputs": [
    {
     "name": "stdin",
     "output_type": "stream",
     "text": [
      "Enter the time of alarm to be set (HH:MM:SS AM/PM):\n",
      " 11:22:12 AM\n"
     ]
    },
    {
     "name": "stdout",
     "output_type": "stream",
     "text": [
      "Alarm set for 11:22:12 AM\n",
      "Waiting for the alarm time...\n",
      "Cannot find a sound with filename: C:\\Users\\Dell\\Downloads\\alarm.mp3\n"
     ]
    }
   ],
   "source": [
    "from datetime import datetime\n",
    "from playsound import playsound\n",
    "import time\n",
    "import os  # Importing os module to check for file existence\n",
    "\n",
    "# Input alarm time\n",
    "alarm_time = input(\"Enter the time of alarm to be set (HH:MM:SS AM/PM):\\n\").strip()\n",
    "\n",
    "# Extract components from the alarm time\n",
    "try:\n",
    "    alarm_hour = alarm_time[:2]          # First two characters for hours\n",
    "    alarm_minute = alarm_time[3:5]       # Characters 3-5 for minutes\n",
    "    alarm_seconds = alarm_time[6:8]      # Characters 6-8 for seconds\n",
    "    alarm_period = alarm_time[9:].strip().upper()  # Remaining characters for AM/PM\n",
    "except IndexError:\n",
    "    print(\"Invalid time format! Please use HH:MM:SS AM/PM.\")\n",
    "    exit()\n",
    "\n",
    "print(f\"Alarm set for {alarm_hour}:{alarm_minute}:{alarm_seconds} {alarm_period}\")\n",
    "print(\"Waiting for the alarm time...\")\n",
    "\n",
    "while True:\n",
    "    # Get the current time\n",
    "    now = datetime.now()\n",
    "    current_hour = now.strftime(\"%I\")       # Current hour in 12-hour format\n",
    "    current_minute = now.strftime(\"%M\")     # Current minute\n",
    "    current_seconds = now.strftime(\"%S\")    # Current seconds\n",
    "    current_period = now.strftime(\"%p\")     # Current period (AM/PM)\n",
    "\n",
    "    # Check if current time matches the alarm time\n",
    "    if (alarm_period == current_period and\n",
    "        alarm_hour == current_hour and\n",
    "        alarm_minute == current_minute and\n",
    "        alarm_seconds == current_seconds):\n",
    "        \n",
    "        # Check if the sound file exists before playing\n",
    "        sound_file = \"C:\\\\Users\\\\Dell\\\\Downloads\\\\alarm.mp3\"\n",
    "        if os.path.exists(sound_file):\n",
    "            print(\"Wake Up!\")\n",
    "            playsound(sound_file)\n",
    "        else:\n",
    "            print(f\"Cannot find a sound with filename: {sound_file}\")\n",
    "        break\n",
    "\n",
    "    time.sleep(1)  # Adding a delay of 1 second to reduce CPU usage"
   ]
  },
  {
   "cell_type": "markdown",
   "id": "0a696482-e779-4165-9440-cb7f44fe603e",
   "metadata": {},
   "source": [
    "### email slicer"
   ]
  },
  {
   "cell_type": "code",
   "execution_count": 94,
   "id": "6884f7b8-da69-4e05-a463-4961cd71d787",
   "metadata": {},
   "outputs": [
    {
     "name": "stdin",
     "output_type": "stream",
     "text": [
      "enter full email id abhi@gmail.com\n"
     ]
    },
    {
     "name": "stdout",
     "output_type": "stream",
     "text": [
      "abhi and gmail.com\n"
     ]
    }
   ],
   "source": [
    "user_input = input(\"enter full email id\")\n",
    "words = user_input.split('@')\n",
    "print(f\"{words[0]} and {words[1]}\")"
   ]
  },
  {
   "cell_type": "markdown",
   "id": "9cf3a426-c475-49e9-83f6-b9fc46d36568",
   "metadata": {},
   "source": [
    "### story generator"
   ]
  },
  {
   "cell_type": "code",
   "execution_count": 104,
   "id": "8fbde3f3-a4a0-4526-9b77-45f72277b95a",
   "metadata": {},
   "outputs": [
    {
     "name": "stdout",
     "output_type": "stream",
     "text": [
      "A long time ago, an elephant that lived in England, went to the university and wrote a book\n"
     ]
    }
   ],
   "source": [
    "import random\n",
    "when = ['A few years ago', 'Yesterday', 'Last night', 'A long time ago','On 20th Jan']\n",
    "who = ['a rabbit', 'an elephant', 'a mouse', 'a turtle','a cat']\n",
    "name = ['Ali', 'Miriam','daniel', 'Hoouk', 'Starwalker']\n",
    "residence = ['Barcelona','India', 'Germany', 'Venice', 'England']\n",
    "went = ['cinema', 'university','seminar', 'school', 'laundry']\n",
    "happened = ['made a lot of friends','Eats a burger', 'found a secret key', 'solved a mistery', 'wrote a book']\n",
    "print(random.choice(when) + ', ' + random.choice(who) + ' that lived in ' + random.choice(residence) + ', went to the ' + random.choice(went) + ' and ' + random.choice(happened))"
   ]
  },
  {
   "cell_type": "markdown",
   "id": "e5f702e6-52bf-43c3-bf77-2c863bda8eb8",
   "metadata": {},
   "source": [
    "### Generate Password with Python"
   ]
  },
  {
   "cell_type": "code",
   "execution_count": 117,
   "id": "f7739c27-e7bd-46ec-9820-1256e8cb0b33",
   "metadata": {},
   "outputs": [
    {
     "name": "stdin",
     "output_type": "stream",
     "text": [
      "enter the length of password 5\n"
     ]
    },
    {
     "name": "stdout",
     "output_type": "stream",
     "text": [
      "b%c&y\n"
     ]
    }
   ],
   "source": [
    "import random\n",
    "pwdlen = int(input(\"enter the length of password\"))\n",
    "s=\"abcdefghijklmnopqrstuvwxyz01234567890ABCDEFGHIJKLMNOPQRSTUVWXYZ!@#$%^&*()?\"\n",
    "p = \"\".join(random.sample(s,pwdlen))\n",
    "print(p)"
   ]
  },
  {
   "cell_type": "markdown",
   "id": "d44a40f8-3450-41d9-9016-9c3cfb8795e1",
   "metadata": {},
   "source": [
    "### Rock Paper and Scissors with Python"
   ]
  },
  {
   "cell_type": "code",
   "execution_count": 128,
   "id": "24510ac9-7ce2-4eab-9dfa-5a5880b6145c",
   "metadata": {},
   "outputs": [
    {
     "name": "stdin",
     "output_type": "stream",
     "text": [
      "select any choice yfy\n"
     ]
    },
    {
     "name": "stdout",
     "output_type": "stream",
     "text": [
      "give right input\n"
     ]
    },
    {
     "name": "stdin",
     "output_type": "stream",
     "text": [
      "select any choice rock\n"
     ]
    },
    {
     "name": "stdout",
     "output_type": "stream",
     "text": [
      "Tie\n"
     ]
    },
    {
     "name": "stdin",
     "output_type": "stream",
     "text": [
      "select any choice end\n"
     ]
    }
   ],
   "source": [
    "import random\n",
    "choices = ['Paper','Rock','Scissor']\n",
    "comp = random.choice(choices)\n",
    "\n",
    "while True:\n",
    "    player = input(\"select any choice\").capitalize()\n",
    "    if player == comp:\n",
    "        print(\"Tie\")\n",
    "    elif player == 'Paper':\n",
    "        if comp == 'Rock':\n",
    "            print(\"you won\")\n",
    "        else:\n",
    "            print(\"you lose\")\n",
    "    elif player == 'Rock':\n",
    "        if comp == 'Paper':\n",
    "            print(\"you lose\")\n",
    "        else:\n",
    "            print(\"you won\")\n",
    "    elif player == 'Scissor':\n",
    "        if comp == 'Paper':\n",
    "            print(\"you won\")\n",
    "        else:\n",
    "            print(\"you lose\")        \n",
    "    elif player == 'End':\n",
    "         break\n",
    "    else:\n",
    "        print(\"give right input\")\n",
    "            \n"
   ]
  },
  {
   "cell_type": "markdown",
   "id": "38c68221-7a18-4fe2-939d-a5b274d63dbe",
   "metadata": {},
   "source": [
    "### Dice Roll Simulator with Python"
   ]
  },
  {
   "cell_type": "code",
   "execution_count": 131,
   "id": "5e15aa91-0b1c-4593-b601-37aa7ec20b11",
   "metadata": {},
   "outputs": [
    {
     "name": "stdout",
     "output_type": "stream",
     "text": [
      "\n",
      "Rolling the dice...\n",
      "The values are:\n",
      "4\n",
      "2\n"
     ]
    },
    {
     "name": "stdin",
     "output_type": "stream",
     "text": [
      "Do you want to roll again? (yes/y to continue, any other key to quit):  y\n"
     ]
    },
    {
     "name": "stdout",
     "output_type": "stream",
     "text": [
      "\n",
      "Rolling the dice...\n",
      "The values are:\n",
      "5\n",
      "5\n"
     ]
    },
    {
     "name": "stdin",
     "output_type": "stream",
     "text": [
      "Do you want to roll again? (yes/y to continue, any other key to quit):  n\n"
     ]
    },
    {
     "name": "stdout",
     "output_type": "stream",
     "text": [
      "Thanks for playing!\n"
     ]
    }
   ],
   "source": [
    "import random  # Importing the random module\n",
    "\n",
    "# Range of the dice values\n",
    "min_val = 1\n",
    "max_val = 6\n",
    "\n",
    "# Loop to roll the dice\n",
    "while True:\n",
    "    print(\"\\nRolling the dice...\")\n",
    "    print(\"The values are:\")\n",
    "    print(random.randint(min_val, max_val))  # Roll the first dice\n",
    "    print(random.randint(min_val, max_val))  # Roll the second dice\n",
    "    \n",
    "    # Ask the user if they want to roll again\n",
    "    roll_again = input(\"Do you want to roll again? (yes/y to continue, any other key to quit): \").strip().lower()\n",
    "    if roll_again != \"yes\" and roll_again != \"y\":\n",
    "        print(\"Thanks for playing!\")\n",
    "        break\n"
   ]
  },
  {
   "cell_type": "markdown",
   "id": "136b0e2d-7e5a-431f-93f4-96d401c0975b",
   "metadata": {},
   "source": [
    "### QR Codes with Python"
   ]
  },
  {
   "cell_type": "code",
   "execution_count": 134,
   "id": "bfc13777-a5e4-454b-b5c6-6cc2bfb54de7",
   "metadata": {},
   "outputs": [
    {
     "name": "stdout",
     "output_type": "stream",
     "text": [
      "Defaulting to user installation because normal site-packages is not writeable\n",
      "Looking in links: /usr/share/pip-wheels\n",
      "Collecting pyqrcode\n",
      "  Downloading PyQRCode-1.2.1.zip (41 kB)\n",
      "\u001b[2K     \u001b[38;5;70m━━━━━━━━━━━━━━━━━━━━━━━━━━━━━━━━━━━━━━━\u001b[0m \u001b[32m41.9/41.9 kB\u001b[0m \u001b[31m790.2 kB/s\u001b[0m eta \u001b[36m0:00:00\u001b[0m\u001b[36m0:00:01\u001b[0m\n",
      "\u001b[?25h  Preparing metadata (setup.py) ... \u001b[?25ldone\n",
      "\u001b[?25hBuilding wheels for collected packages: pyqrcode\n",
      "  Building wheel for pyqrcode (setup.py) ... \u001b[?25ldone\n",
      "\u001b[?25h  Created wheel for pyqrcode: filename=PyQRCode-1.2.1-py3-none-any.whl size=36227 sha256=3002c76fc8f6b963d8aac1d5b923385cf24e62eb9be8a03dbf3056c077e940c7\n",
      "  Stored in directory: /home/72f85754-6720-4073-b735-84edb54ad3dd/.cache/pip/wheels/f5/db/22/ade11e0c0854d1bb2fcc673dc90f6495ee2c0d2b6eb41492e3\n",
      "Successfully built pyqrcode\n",
      "Installing collected packages: pyqrcode\n",
      "Successfully installed pyqrcode-1.2.1\n",
      "Note: you may need to restart the kernel to use updated packages.\n"
     ]
    }
   ],
   "source": [
    "pip install pyqrcode"
   ]
  },
  {
   "cell_type": "code",
   "execution_count": 140,
   "id": "0a2442d5-e852-4f39-9ffe-3d674b14770c",
   "metadata": {},
   "outputs": [
    {
     "name": "stdout",
     "output_type": "stream",
     "text": [
      "QRCode(content=b'https://www.cricbuzz.com/', error='H', version=4, mode='binary')\n"
     ]
    }
   ],
   "source": [
    "import pyqrcode \n",
    "from pyqrcode import QRCode \n",
    "  \n",
    "# String which represent the QR code \n",
    "link = \"https://www.cricbuzz.com/\"\n",
    "  \n",
    "# Generate QR code \n",
    "url = pyqrcode.create(link) \n",
    "print(url) \n",
    "\n",
    "# Create and save the png file naming \"myqr.png\" \n",
    "url.svg(\"cric.svg\", scale = 8) "
   ]
  },
  {
   "cell_type": "markdown",
   "id": "d07400b2-1bb4-4acb-b4bb-b6db5ea8efee",
   "metadata": {},
   "source": [
    "### Print Colored Text with Python"
   ]
  },
  {
   "cell_type": "code",
   "execution_count": 4,
   "id": "be4322ba-972b-4e76-828c-b7e65627a5ae",
   "metadata": {},
   "outputs": [
    {
     "name": "stdout",
     "output_type": "stream",
     "text": [
      "Defaulting to user installation because normal site-packages is not writeable\n",
      "Looking in links: /usr/share/pip-wheels\n",
      "Requirement already satisfied: colorama in /opt/conda/envs/anaconda-panel-2023.05-py310/lib/python3.11/site-packages (0.4.6)\n"
     ]
    }
   ],
   "source": [
    "!pip install colorama"
   ]
  },
  {
   "cell_type": "code",
   "execution_count": 6,
   "id": "17f7c513-bd0b-4274-a404-79c953e3c84e",
   "metadata": {},
   "outputs": [
    {
     "name": "stdout",
     "output_type": "stream",
     "text": [
      " red textand with a green background\n",
      "a green backgroundpink lettere\n",
      "and in dim text\n",
      "\n",
      "back to normal now\n"
     ]
    }
   ],
   "source": [
    "import colorama\n",
    "from colorama import Fore, Back, Style\n",
    "colorama.init(autoreset=True)\n",
    "\n",
    "print(Fore.RED + ' red text'+Back.GREEN + 'and with a green background')\n",
    "print(Back.GREEN + 'a green background'+ Fore.YELLOW + 'pink lettere')\n",
    "print(Style.DIM + 'and in dim text')\n",
    "print(Style.RESET_ALL)\n",
    "print('back to normal now')"
   ]
  },
  {
   "cell_type": "markdown",
   "id": "1286ce17-abda-4cab-8f75-6cf711fd9a1b",
   "metadata": {},
   "source": [
    "### Python Program to Convert Roman Numbers to Decimals"
   ]
  },
  {
   "cell_type": "code",
   "execution_count": 17,
   "id": "1b41aa97-d2b3-4713-b8f8-95a71210e195",
   "metadata": {},
   "outputs": [
    {
     "name": "stdin",
     "output_type": "stream",
     "text": [
      "Enter a Roman numeral:  xvi\n"
     ]
    },
    {
     "name": "stdout",
     "output_type": "stream",
     "text": [
      "The decimal value of XVI is 16\n"
     ]
    }
   ],
   "source": [
    "def roman_to_decimal(roman):\n",
    "    # Dictionary to store Roman numeral values\n",
    "    roman_values = {\n",
    "        'I': 1, 'V': 5, 'X': 10, 'L': 50,\n",
    "        'C': 100, 'D': 500, 'M': 1000\n",
    "    }\n",
    "    \n",
    "    total = 0  # To store the result\n",
    "    prev_value = 0  # To keep track of the previous numeral's value\n",
    "\n",
    "    # Process each character in reverse order\n",
    "    for char in reversed(roman):\n",
    "        current_value = roman_values[char]\n",
    "        if current_value < prev_value:  # If smaller, subtract it\n",
    "            total -= current_value\n",
    "        else:  # Otherwise, add it\n",
    "            total += current_value\n",
    "        prev_value = current_value\n",
    "\n",
    "    return total\n",
    "\n",
    "# Example usage\n",
    "roman_num = input(\"Enter a Roman numeral: \").upper()\n",
    "decimal_value = roman_to_decimal(roman_num)\n",
    "print(f\"The decimal value of {roman_num} is {decimal_value}\")\n"
   ]
  },
  {
   "cell_type": "code",
   "execution_count": null,
   "id": "67863c95-ec91-45c8-bb7d-a670b469e2a7",
   "metadata": {},
   "outputs": [],
   "source": []
  }
 ],
 "metadata": {
  "kernelspec": {
   "display_name": "anaconda-panel-2023.05-py310",
   "language": "python",
   "name": "conda-env-anaconda-panel-2023.05-py310-py"
  },
  "language_info": {
   "codemirror_mode": {
    "name": "ipython",
    "version": 3
   },
   "file_extension": ".py",
   "mimetype": "text/x-python",
   "name": "python",
   "nbconvert_exporter": "python",
   "pygments_lexer": "ipython3",
   "version": "3.11.5"
  }
 },
 "nbformat": 4,
 "nbformat_minor": 5
}
