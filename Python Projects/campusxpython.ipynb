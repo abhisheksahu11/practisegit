{
 "cells": [
  {
   "cell_type": "markdown",
   "id": "0bfb4b14-84b8-47f0-aa66-8c925270ceac",
   "metadata": {},
   "source": [
    "## python code"
   ]
  },
  {
   "cell_type": "code",
   "execution_count": 3,
   "id": "3ae221da-6eaa-4d5c-b813-8e82562c9181",
   "metadata": {},
   "outputs": [
    {
     "name": "stdout",
     "output_type": "stream",
     "text": [
      "hello\n",
      "abc \"xyz\" ijk\n"
     ]
    }
   ],
   "source": [
    "#installed jupyter to run code\n",
    "print(\"hello\")\n",
    "print( \"abc \\\"xyz\\\" ijk\")"
   ]
  },
  {
   "cell_type": "markdown",
   "id": "7ea41700-0d77-4062-bb38-0d2e0d2aca61",
   "metadata": {},
   "source": [
    "## User will input (3ages).Find the oldest one"
   ]
  },
  {
   "cell_type": "code",
   "execution_count": 5,
   "id": "acfd8800-1fcf-4122-8cb1-01f8cc3490fb",
   "metadata": {},
   "outputs": [
    {
     "name": "stdin",
     "output_type": "stream",
     "text": [
      "give age of first person 45\n",
      "give age of second person 75\n",
      "give age of third person 74\n"
     ]
    },
    {
     "name": "stdout",
     "output_type": "stream",
     "text": [
      "b is oldest\n"
     ]
    }
   ],
   "source": [
    "\n",
    "a = int(input(\"give age of first person\"))\n",
    "b = int(input(\"give age of second person\"))\n",
    "c = int(input(\"give age of third person\"))\n",
    "\n",
    "if(a > b ):\n",
    "    if(a > c):\n",
    "       print(\"a is oldest\")\n",
    "    else:\n",
    "        print(\"c is oldest\")\n",
    "else:\n",
    "    if(b > c):\n",
    "       print(\"b is oldest\")\n",
    "    else:\n",
    "        print(\"c is oldest\")\n",
    "    \n",
    "\n"
   ]
  },
  {
   "cell_type": "markdown",
   "id": "aab087a0-e529-4d6c-be93-044a6a0103f5",
   "metadata": {},
   "source": [
    "# Write a program that will convert celsius value to fahrenheit\r\n"
   ]
  },
  {
   "cell_type": "code",
   "execution_count": 7,
   "id": "a6de427c-144e-4819-9806-d43381327c63",
   "metadata": {},
   "outputs": [
    {
     "name": "stdin",
     "output_type": "stream",
     "text": [
      "take input as celsius value 74\n"
     ]
    },
    {
     "name": "stdout",
     "output_type": "stream",
     "text": [
      "fahrenheit 165.20000000000002\n"
     ]
    }
   ],
   "source": [
    "cels = int(input(\"take input as celsius value\"))\n",
    "far = (9/5) * cels + 32\n",
    "print(\"fahrenheit\",far)"
   ]
  },
  {
   "cell_type": "code",
   "execution_count": 8,
   "id": "619bafa8-5d51-4795-8a5f-de566c28f2e2",
   "metadata": {},
   "outputs": [],
   "source": [
    "def celsius_to_fahrenheit(celsius):\n",
    "    return (9/5) * celsius + 32"
   ]
  },
  {
   "cell_type": "code",
   "execution_count": 9,
   "id": "a35c9d1e-bc06-4ce5-8b1f-cfdcc7186219",
   "metadata": {},
   "outputs": [
    {
     "data": {
      "text/plain": [
       "129.2"
      ]
     },
     "execution_count": 9,
     "metadata": {},
     "output_type": "execute_result"
    }
   ],
   "source": [
    "celsius_to_fahrenheit(54)"
   ]
  },
  {
   "cell_type": "markdown",
   "id": "6d9684c5-b986-4223-a4ed-fea711f46561",
   "metadata": {},
   "source": [
    "# User will input (2numbers).Write a program to swap the numbers"
   ]
  },
  {
   "cell_type": "code",
   "execution_count": 35,
   "id": "844b4bf9-742c-424d-b3a8-4da1b1154585",
   "metadata": {},
   "outputs": [
    {
     "name": "stdin",
     "output_type": "stream",
     "text": [
      "give first number 67\n",
      "give second number 87\n"
     ]
    },
    {
     "name": "stdout",
     "output_type": "stream",
     "text": [
      "67 and 87\n",
      "87 and 67\n"
     ]
    }
   ],
   "source": [
    "a = int(input(\"give first number\"))\n",
    "b = int(input(\"give second number\"))\n",
    "print( a, \"and\", b)\n",
    "c = a\n",
    "a = b\n",
    "b = c\n",
    "print( a ,\"and\", b)"
   ]
  },
  {
   "cell_type": "markdown",
   "id": "f71d2f88-aa42-4eee-a10e-be336dbd9b39",
   "metadata": {},
   "source": [
    "## Write a program that will give you the sum of 3 digits"
   ]
  },
  {
   "cell_type": "code",
   "execution_count": 37,
   "id": "6b1a06cb-d7c4-4102-83be-a49f763de72d",
   "metadata": {},
   "outputs": [],
   "source": [
    "def num2dig(num):\n",
    "    if num >= 100 and num <= 999:\n",
    "        digits=(str(num))\n",
    "        sum = 0\n",
    "        for digit in digits:\n",
    "            sum = sum + int(digit)\n",
    "        return sum\n",
    "\n",
    "    else:\n",
    "        return \"enter a three digit number\"\n",
    "            \n",
    "    "
   ]
  },
  {
   "cell_type": "code",
   "execution_count": 39,
   "id": "6b7f1f8a-3308-4b12-a6d6-4439aa211fa4",
   "metadata": {},
   "outputs": [
    {
     "data": {
      "text/plain": [
       "27"
      ]
     },
     "execution_count": 39,
     "metadata": {},
     "output_type": "execute_result"
    }
   ],
   "source": [
    "num2dig(999)"
   ]
  },
  {
   "cell_type": "markdown",
   "id": "5090cc4b-4675-4e32-91f4-8f5a8429e3d5",
   "metadata": {},
   "source": [
    "## Write a program that will reverse a four digit number.Also it checks whether the reverse is true."
   ]
  },
  {
   "cell_type": "code",
   "execution_count": 42,
   "id": "da220cc6-9135-41d8-98cd-e5b04bbac67d",
   "metadata": {},
   "outputs": [],
   "source": [
    "def reverse(number):\n",
    "    digits = str(num)\n",
    "    reverse = \"\"\n",
    "    length = int(len(digits))\n",
    "    while (length <= 0):\n",
    "       reverse = reverse + digits[length-1]\n",
    "       length = length-1 \n",
    "    return int(reverse)\n",
    "        \n",
    "        \n",
    "    \n",
    "    "
   ]
  },
  {
   "cell_type": "code",
   "execution_count": 44,
   "id": "8b343b1d-a26d-432e-8bd4-b6acff54afe1",
   "metadata": {},
   "outputs": [
    {
     "ename": "NameError",
     "evalue": "name 'num' is not defined",
     "output_type": "error",
     "traceback": [
      "\u001b[0;31m---------------------------------------------------------------------------\u001b[0m",
      "\u001b[0;31mNameError\u001b[0m                                 Traceback (most recent call last)",
      "Cell \u001b[0;32mIn[44], line 1\u001b[0m\n\u001b[0;32m----> 1\u001b[0m reverse(\u001b[38;5;124m\"\u001b[39m\u001b[38;5;124m546\u001b[39m\u001b[38;5;124m\"\u001b[39m)\n",
      "Cell \u001b[0;32mIn[42], line 2\u001b[0m, in \u001b[0;36mreverse\u001b[0;34m(number)\u001b[0m\n\u001b[1;32m      1\u001b[0m \u001b[38;5;28;01mdef\u001b[39;00m \u001b[38;5;21mreverse\u001b[39m(number):\n\u001b[0;32m----> 2\u001b[0m     digits \u001b[38;5;241m=\u001b[39m \u001b[38;5;28mstr\u001b[39m(num)\n\u001b[1;32m      3\u001b[0m     reverse \u001b[38;5;241m=\u001b[39m \u001b[38;5;124m\"\u001b[39m\u001b[38;5;124m\"\u001b[39m\n\u001b[1;32m      4\u001b[0m     length \u001b[38;5;241m=\u001b[39m \u001b[38;5;28mint\u001b[39m(\u001b[38;5;28mlen\u001b[39m(digits))\n",
      "\u001b[0;31mNameError\u001b[0m: name 'num' is not defined"
     ]
    }
   ],
   "source": [
    "reverse(\"546\")"
   ]
  },
  {
   "cell_type": "code",
   "execution_count": 46,
   "id": "9d3fe989-a025-461e-b30c-c416cd748ecc",
   "metadata": {},
   "outputs": [
    {
     "data": {
      "text/plain": [
       "695"
      ]
     },
     "execution_count": 46,
     "metadata": {},
     "output_type": "execute_result"
    }
   ],
   "source": [
    "def reverse(n):\n",
    "    # Convert the number to a string, reverse it, and convert back to an integer\n",
    "    return int(str(n)[::-1])  # This reverses the string representation of the number\n",
    "\n",
    "# Call the function with the number 546\n",
    "reverse(596)"
   ]
  },
  {
   "cell_type": "markdown",
   "id": "4c070542-07fd-40b1-8c35-384c39fbbeab",
   "metadata": {},
   "source": [
    "## Write a program that will tell whether the number entered by the user is odd or even.\n"
   ]
  },
  {
   "cell_type": "code",
   "execution_count": 49,
   "id": "9bf15c0f-a860-4dab-9571-c6216d73605e",
   "metadata": {},
   "outputs": [],
   "source": [
    "def even_odd(num):\n",
    "    if num % 2 ==0:\n",
    "        print(\"even\")\n",
    "    else: \n",
    "        print(\"odd\")"
   ]
  },
  {
   "cell_type": "code",
   "execution_count": 51,
   "id": "f28ab9b5-7272-4d93-ae87-66f46bac814d",
   "metadata": {},
   "outputs": [
    {
     "name": "stdout",
     "output_type": "stream",
     "text": [
      "odd\n"
     ]
    }
   ],
   "source": [
    "even_odd(int(543))"
   ]
  },
  {
   "cell_type": "markdown",
   "id": "f0c4e8f8-edc8-43f9-b387-e9ef230b0cc9",
   "metadata": {},
   "source": [
    "## Write a program that will tell whether the given year is a leap year or not"
   ]
  },
  {
   "cell_type": "code",
   "execution_count": 54,
   "id": "d8884260-9b63-4018-a7eb-3ae665dcc8bc",
   "metadata": {},
   "outputs": [],
   "source": [
    "def leap_year(num):\n",
    "    if (num % 4 == 0 and num % 100 != 0) or num % 400 == 0:\n",
    "        print(\"leap year\")\n",
    "    else:\n",
    "        print(\"not a leap year\")"
   ]
  },
  {
   "cell_type": "code",
   "execution_count": 56,
   "id": "0307bdf1-86a3-4b1f-832b-1faea2b485ab",
   "metadata": {},
   "outputs": [
    {
     "name": "stdout",
     "output_type": "stream",
     "text": [
      "not a leap year\n"
     ]
    }
   ],
   "source": [
    "leap_year(1900)"
   ]
  },
  {
   "cell_type": "markdown",
   "id": "7fb4055c-52d0-46df-b740-230fbce882ff",
   "metadata": {},
   "source": [
    "## Write a program to find the euclidean distance between two coordinates.\n"
   ]
  },
  {
   "cell_type": "code",
   "execution_count": 59,
   "id": "9bd5e215-30e9-45eb-9624-f8544ca64d4c",
   "metadata": {},
   "outputs": [],
   "source": [
    "def euclidean(x1,y1,x2,y2):\n",
    "    x = (x2-x1)**2 \n",
    "    y = (y2-y1)**2\n",
    "    return (x+y)**0.5\n",
    "    "
   ]
  },
  {
   "cell_type": "code",
   "execution_count": 61,
   "id": "464d55eb-3efb-4d52-9003-464ec37be5c8",
   "metadata": {},
   "outputs": [
    {
     "data": {
      "text/plain": [
       "5.0"
      ]
     },
     "execution_count": 61,
     "metadata": {},
     "output_type": "execute_result"
    }
   ],
   "source": [
    "euclidean(2,3,5,7)"
   ]
  },
  {
   "cell_type": "markdown",
   "id": "75d99e1e-351a-4a46-8477-de8a9750c45d",
   "metadata": {},
   "source": [
    "## Write a program that take a user inputr of three angles and will find out whether it can form a triangle or not."
   ]
  },
  {
   "cell_type": "code",
   "execution_count": 64,
   "id": "3e4d7e3d-4b37-401b-b91b-4ba90fc6194f",
   "metadata": {},
   "outputs": [],
   "source": [
    "def is_triangle(a , b , c):\n",
    "    if (a+b+c == 180):\n",
    "        print(\"form a triangle\")\n",
    "    else:\n",
    "        print(\"Not form a triangle\")"
   ]
  },
  {
   "cell_type": "code",
   "execution_count": 70,
   "id": "c62e2720-2681-4755-bcbb-8f40ff87991f",
   "metadata": {},
   "outputs": [
    {
     "name": "stdin",
     "output_type": "stream",
     "text": [
      "give three angles form triangle 90\n",
      "give three angles form triangle 45\n",
      "give three angles form triangle 45\n"
     ]
    },
    {
     "name": "stdout",
     "output_type": "stream",
     "text": [
      "form a triangle\n"
     ]
    }
   ],
   "source": [
    "a = int(input(\"give three angles form triangle\"))\n",
    "b = int(input(\"give three angles form triangle\"))\n",
    "c = int(input(\"give three angles form triangle\"))\n",
    "is_triangle(a,b,c)"
   ]
  },
  {
   "cell_type": "markdown",
   "id": "262ba1f8-2468-4d13-87d6-c0fde23c30df",
   "metadata": {},
   "source": [
    "## Write a program that will take user input of cost price and selling price and determines whether its a loss or a profit"
   ]
  },
  {
   "cell_type": "code",
   "execution_count": 72,
   "id": "cea278b1-4586-4606-9c91-3f09085b00a8",
   "metadata": {},
   "outputs": [],
   "source": [
    "def profit_loss(cost,sell):\n",
    "    if sell>cost:\n",
    "        print(\"profit\")\n",
    "    elif sell<cost:\n",
    "        print(\"loss\")\n",
    "    else:\n",
    "        print(\"no loss or profit\")"
   ]
  },
  {
   "cell_type": "code",
   "execution_count": 74,
   "id": "c4fea6b8-e4ea-4e83-87eb-6407180ecb14",
   "metadata": {},
   "outputs": [
    {
     "name": "stdout",
     "output_type": "stream",
     "text": [
      "no loss or profit\n"
     ]
    }
   ],
   "source": [
    "profit_loss(100,100)"
   ]
  },
  {
   "cell_type": "markdown",
   "id": "3326bb4c-cf5b-4b53-944a-eaab020b7bec",
   "metadata": {},
   "source": [
    "## Write a program to find the simple interest when the value of principle,rate of interest and time period is given."
   ]
  },
  {
   "cell_type": "code",
   "execution_count": 77,
   "id": "975dc670-09e4-48c4-b9fe-28d6edb4feeb",
   "metadata": {},
   "outputs": [],
   "source": [
    "def simple_interest(principal,rate,time):\n",
    "    interest = (principal * rate * time)/100\n",
    "    return interest"
   ]
  },
  {
   "cell_type": "code",
   "execution_count": null,
   "id": "d316ca0e-92e4-4c70-9003-8115b3624c18",
   "metadata": {},
   "outputs": [],
   "source": [
    "print(\"simple interest is\",simple_interest(5000,2,3))"
   ]
  },
  {
   "cell_type": "code",
   "execution_count": 79,
   "id": "a81f68f2-f8d6-4394-aa1e-bd5418cb2fdb",
   "metadata": {},
   "outputs": [
    {
     "name": "stdin",
     "output_type": "stream",
     "text": [
      "Give three angles for a triangle (comma-separated):  54,65,76\n"
     ]
    },
    {
     "name": "stdout",
     "output_type": "stream",
     "text": [
      "Not form a triangle\n"
     ]
    }
   ],
   "source": [
    "# Get input as a single string and split it by commas\n",
    "angles = input(\"Give three angles for a triangle (comma-separated): \")\n",
    "\n",
    "# Split the input string into a lis and convert each angle to an integer\n",
    "a, b, c = map(int, angles.split(','))\n",
    "\n",
    "# Now you can call the function is_triangle with the angles\n",
    "is_triangle(a, b, c)"
   ]
  },
  {
   "cell_type": "markdown",
   "id": "e86b6af0-3199-4a31-a74f-1f44779248f1",
   "metadata": {},
   "source": [
    "### https://practice.geeksforgeeks.org/problems/angle-between-hour-and-minute-hand0545/1?page=2&category[]=Mathematical&category[]=Numbers&category[]=number-theory&sortBy=submissions\n"
   ]
  },
  {
   "cell_type": "code",
   "execution_count": 83,
   "id": "c66693fb-9ba7-43df-84d8-ee6b47129650",
   "metadata": {},
   "outputs": [
    {
     "name": "stdin",
     "output_type": "stream",
     "text": [
      "Enter the hour (1-12):  8\n",
      "Enter the minutes (0-59):  65\n"
     ]
    },
    {
     "name": "stdout",
     "output_type": "stream",
     "text": [
      "The angle between the hour and minute hand is: 117.5 degrees\n"
     ]
    }
   ],
   "source": [
    "def calculate_angle(hour, minute):\n",
    "    # Calculate the position of the minute hand\n",
    "    minute_angle = minute * 6  # 360 degrees / 60 minutes\n",
    "\n",
    "    # Calculate the position of the hour hand\n",
    "    hour_angle = hour * 30 + (minute / 60) * 30  # 360 degrees / 12 hours\n",
    "\n",
    "    # Calculate the angle between the two hands\n",
    "    angle = abs(hour_angle - minute_angle)\n",
    "\n",
    "    # Return the smaller angle\n",
    "    return min(angle, 360 - angle)\n",
    "\n",
    "# Example usage\n",
    "hour = int(input(\"Enter the hour (1-12): \"))\n",
    "minute = int(input(\"Enter the minutes (0-59): \"))\n",
    "angle = calculate_angle(hour, minute)\n",
    "print(f\"The angle between the hour and minute hand is: {angle} degrees\")"
   ]
  },
  {
   "cell_type": "markdown",
   "id": "bf057150-feed-466d-a6f9-993082f15423",
   "metadata": {},
   "source": [
    "### Given two rectangles, find if the given two rectangles overlap or not. A rectangle is denoted by providing \n",
    "the x and y coordinates of two points: the left top corner and the right bottom corner of the rectangle. \n",
    "Two rectangles sharing a side are considered overlapping. (L1 and R1 are the extreme points of the first rectangle and L2 and R2 are the extreme points of the second rectangle)."
   ]
  },
  {
   "cell_type": "code",
   "execution_count": 19,
   "id": "3bba2447-0ced-4194-b9e0-636123d895a1",
   "metadata": {},
   "outputs": [
    {
     "name": "stdout",
     "output_type": "stream",
     "text": [
      "Do the rectangles overlap? Yes\n"
     ]
    }
   ],
   "source": [
    "def do_rectangles_overlap(rect1, rect2):\n",
    "    # Unpack the rectangle coordinates\n",
    "    x1, y1, x2, y2 = rect1  # Rectangle 1: (x1, y1) is bottom-left, (x2, y2) is top-right\n",
    "    x3, y3, x4, y4 = rect2  # Rectangle 2: (x3, y3) is bottom-left, (x4, y4) is top-right\n",
    "\n",
    "    # Check for non-overlapping conditions\n",
    "    if x2 < x3 or x4 < x1:  # One rectangle is to the left of the other\n",
    "        return False\n",
    "    if y2 < y3 or y4 < y1:  # One rectangle is above the other\n",
    "        return False\n",
    "\n",
    "    # If none of the non-overlapping conditions are met, the rectangles overlap\n",
    "    return True\n",
    "\n",
    "# Example usage\n",
    "rect1 = (1, 1, 3, 3)  # Rectangle 1 coordinates\n",
    "rect2 = (2, 2, 4, 4)  # Rectangle 2 coordinates\n",
    "overlap = do_rectangles_overlap(rect1, rect2)\n",
    "print(f\"Do the rectangles overlap? {'Yes' if overlap else 'No'}\")"
   ]
  },
  {
   "cell_type": "markdown",
   "id": "0ba67280-7f25-48c4-84f3-fec23c21c683",
   "metadata": {},
   "source": [
    "### Write a program that will determine weather when the value of temperature and humidity is provided by the user.\r\n",
    "TEMPERATURE(C)      HUMIDITY(%)      WEATHER\r\n",
    "\r\n",
    "      >= 30                             >=90                Hot and Humid\r\n",
    "      >= 30                             < 90                 Hot\r\n",
    "      <30                                >= 90               Cool and Humid\r\n",
    "      <30                                 <90                 Cool\r\n"
   ]
  },
  {
   "cell_type": "code",
   "execution_count": 22,
   "id": "c4ceeca6-6bb5-4cfe-a092-b9d91cf880b4",
   "metadata": {},
   "outputs": [],
   "source": [
    "def weather(temperature,humidity):\n",
    "    if temperature >= 30 and humidity >=90:\n",
    "        print(\"hot and humid\")\n",
    "    elif temperature >= 30 and humidity <90: \n",
    "        print(\"hot\")\n",
    "    elif temperature < 30 and humidity >=90:\n",
    "        print(\"cool and humid\")\n",
    "    else:\n",
    "        print(\"cool\")\n",
    "        "
   ]
  },
  {
   "cell_type": "code",
   "execution_count": 24,
   "id": "d445dbae-fe0f-47dd-919d-fdae15aada2d",
   "metadata": {},
   "outputs": [
    {
     "name": "stdout",
     "output_type": "stream",
     "text": [
      "cool\n"
     ]
    }
   ],
   "source": [
    "weather(23,76)"
   ]
  },
  {
   "cell_type": "markdown",
   "id": "b157996e-0f58-4107-8b9e-df260531cee1",
   "metadata": {},
   "source": [
    "### Write a program that will take three digits from the user and add the square of each digit."
   ]
  },
  {
   "cell_type": "code",
   "execution_count": 36,
   "id": "e965895e-e583-4ec9-9dbb-d86bbb0c9b1d",
   "metadata": {},
   "outputs": [],
   "source": [
    "def square(number):\n",
    "   x,y,z = number\n",
    "   return x**2 + y**2 + z**2"
   ]
  },
  {
   "cell_type": "code",
   "execution_count": 38,
   "id": "bdc54966-898b-40ae-b2a9-a6ff003b7822",
   "metadata": {},
   "outputs": [
    {
     "data": {
      "text/plain": [
       "29"
      ]
     },
     "execution_count": 38,
     "metadata": {},
     "output_type": "execute_result"
    }
   ],
   "source": [
    "digit = (3,2,4)\n",
    "square(digit)"
   ]
  },
  {
   "cell_type": "markdown",
   "id": "ea26f732-64ef-482c-81be-5f299da683de",
   "metadata": {},
   "source": [
    "### Write a program that will check whether the number is armstrong number or not."
   ]
  },
  {
   "cell_type": "code",
   "execution_count": 56,
   "id": "e21b3a45-b10a-4ee8-9e30-4d3014d65209",
   "metadata": {},
   "outputs": [],
   "source": [
    "def is_armstrong(number):\n",
    "    count = 0\n",
    "    sum = 0\n",
    "    for digit in number:\n",
    "        count = count+1\n",
    "    for digit in number:\n",
    "         sum = sum + int(digit)**count\n",
    "    if int(number) == sum:\n",
    "          return True\n",
    "    else:\n",
    "          return False\n",
    "         "
   ]
  },
  {
   "cell_type": "code",
   "execution_count": 60,
   "id": "3c9cd9b3-a709-4134-9164-bcde485576b5",
   "metadata": {},
   "outputs": [
    {
     "name": "stdin",
     "output_type": "stream",
     "text": [
      "give number 153\n"
     ]
    },
    {
     "name": "stdout",
     "output_type": "stream",
     "text": [
      "the value is True\n"
     ]
    }
   ],
   "source": [
    "number = input(\"give number\")\n",
    "print(f\"the value is {is_armstrong(number)}\")"
   ]
  },
  {
   "cell_type": "markdown",
   "id": "7ef4ec0e-7247-483b-9cc3-17662967bef3",
   "metadata": {},
   "source": [
    "### Write a program that will give you the in hand salary after deduction of HRA(10%),DA(5%),PF(3%), and tax(if salary is between 5-10 lakh–10%),(11-20lakh–20%),(20< _   – 30%)(0-1lakh print k).\r\n"
   ]
  },
  {
   "cell_type": "code",
   "execution_count": 73,
   "id": "c4cf0b43-c1f8-4241-839f-714355fa0f27",
   "metadata": {},
   "outputs": [],
   "source": [
    "def salary_hand(salary):\n",
    "    hra = (salary*10)/100\n",
    "    da = (salary*5)/100\n",
    "    pf = (salary*3)/100\n",
    "    if (salary < 5,00,000):\n",
    "         tax = (salary*5)/100\n",
    "    elif (salary >= 5,00,000 and salary < 10,00,000):\n",
    "         tax = (salary*10)/100\n",
    "    elif (salary >= 10,00,000 and salary < 20,00,000):\n",
    "         tax = (salary*20)/100\n",
    "    else:\n",
    "         tax = (salary*30)/100\n",
    "        \n",
    "    return salary - (hra+da+pf+tax)  \n",
    "    \n",
    "    "
   ]
  },
  {
   "cell_type": "code",
   "execution_count": 79,
   "id": "9c220397-41b7-48d9-9b9a-ee8fc4c2b238",
   "metadata": {},
   "outputs": [
    {
     "name": "stdout",
     "output_type": "stream",
     "text": [
      "in hand salary is 5159000.0\n"
     ]
    }
   ],
   "source": [
    "print(f\"in hand salary is {salary_hand(6700000)}\")"
   ]
  },
  {
   "cell_type": "markdown",
   "id": "ee24a9f7-6c1d-4e57-800c-bade1c5c09f4",
   "metadata": {},
   "source": [
    "### Write a menu driven program - 1.m to cm  2.kl to m  3.usd to inr  4.exit"
   ]
  },
  {
   "cell_type": "code",
   "execution_count": 6,
   "id": "43c8aafc-03ec-40fb-9eb0-4584f5213443",
   "metadata": {},
   "outputs": [
    {
     "name": "stdout",
     "output_type": "stream",
     "text": [
      " press 1 for cm to ft \n",
      " press 2 for kl to miles \n",
      " press 3 usd to inr \n",
      " press 4 for exit\n"
     ]
    },
    {
     "name": "stdin",
     "output_type": "stream",
     "text": [
      "press number 3\n",
      "us dollar 50\n"
     ]
    },
    {
     "name": "stdout",
     "output_type": "stream",
     "text": [
      "4000\n"
     ]
    }
   ],
   "source": [
    "print(\" press 1 for cm to ft \\n press 2 for kl to miles \\n press 3 usd to inr \\n press 4 for exit\")\n",
    "num = int(input(\"press number\"))\n",
    "if num == 1:\n",
    "    number = int(input(\"metre\"))\n",
    "    print( number*100)\n",
    "elif (num == 2):\n",
    "    number = int(input(\"kilometre\"))\n",
    "    print (number*1000)\n",
    "elif (num ==3):\n",
    "    number = int(input(\"us dollar\"))\n",
    "    print( number*80)\n",
    "elif num == 4:\n",
    "    exit()\n",
    "else:\n",
    "    print (\"give valid number\")"
   ]
  },
  {
   "cell_type": "markdown",
   "id": "db613193-4936-4c8a-9f74-0287c358de8b",
   "metadata": {},
   "source": [
    "### Write a program to find the sum of first n numbers, where n will be provided by the user. Eg if the user provides n=10 the output should be 55."
   ]
  },
  {
   "cell_type": "code",
   "execution_count": 9,
   "id": "5178cb26-3f58-4c36-bdb1-a337b1fd3d72",
   "metadata": {},
   "outputs": [],
   "source": [
    "def factorial(num):\n",
    "    sum = 0\n",
    "    while(num != 0):\n",
    "        sum = sum + num\n",
    "        num = num -1\n",
    "    return sum\n",
    "    "
   ]
  },
  {
   "cell_type": "code",
   "execution_count": 13,
   "id": "088c058a-9cc6-4bac-8a02-cb904e18300f",
   "metadata": {},
   "outputs": [
    {
     "name": "stdin",
     "output_type": "stream",
     "text": [
      "insert numnber 10\n"
     ]
    },
    {
     "name": "stdout",
     "output_type": "stream",
     "text": [
      "the sum of 10 is 55\n"
     ]
    }
   ],
   "source": [
    "num = int(input(\"insert numnber\"))\n",
    "print(f\"the sum of {num} is {factorial(num)}\")"
   ]
  },
  {
   "cell_type": "code",
   "execution_count": 20,
   "id": "5ad19dc3-20ec-4089-bb6b-64e45ca0fb55",
   "metadata": {},
   "outputs": [
    {
     "name": "stdin",
     "output_type": "stream",
     "text": [
      "Enter the total number of heads:  20\n",
      "Enter the total number of legs:  60\n"
     ]
    },
    {
     "name": "stdout",
     "output_type": "stream",
     "text": [
      "(10, 10)\n"
     ]
    }
   ],
   "source": [
    "def calculate_animals(total_heads, total_legs):\n",
    "    # Using the equations derived above\n",
    "    # Rearranging the first equation: c = total_heads - d\n",
    "    # Substitute c in the second equation\n",
    "    # 4d + 2(total_heads - d) = total_legs\n",
    "    # 4d + 2total_heads - 2d = total_legs\n",
    "    # 2d + 2total_heads = total_legs\n",
    "    # 2d = total_legs - 2total_heads\n",
    "    # d = (total_legs - 2total_heads) / 2\n",
    "\n",
    "    d = (total_legs - 2 * total_heads) / 2\n",
    "    c = total_heads - d\n",
    "\n",
    "    # Check if the calculated values are valid (non-negative integers)\n",
    "    if d < 0 or c < 0 or d != int(d) or c != int(c):\n",
    "        return \"No valid solution for the given number of heads and legs.\"\n",
    "    \n",
    "    return int(d), int(c)\n",
    "    \n",
    "\n",
    "# Example usage\n",
    "total_heads = int(input(\"Enter the total number of heads: \"))\n",
    "total_legs = int(input(\"Enter the total number of legs: \"))\n",
    "result = calculate_animals(total_heads, total_legs)\n",
    "\n",
    "print(result)"
   ]
  },
  {
   "cell_type": "code",
   "execution_count": 3,
   "id": "4fb699c2-fa58-46a4-97e2-b28c4cfb23eb",
   "metadata": {},
   "outputs": [
    {
     "name": "stdout",
     "output_type": "stream",
     "text": [
      "Defaulting to user installation because normal site-packages is not writeable\n",
      "Looking in links: /usr/share/pip-wheels\n",
      "Collecting jupyterthemes\n",
      "  Obtaining dependency information for jupyterthemes from https://files.pythonhosted.org/packages/8a/08/9dee6dfd7f2aad6c30282d55c8f495b4dc1e4747b4e2bdbeb80572ddf312/jupyterthemes-0.20.0-py2.py3-none-any.whl.metadata\n",
      "  Downloading jupyterthemes-0.20.0-py2.py3-none-any.whl.metadata (1.0 kB)\n",
      "Requirement already satisfied: jupyter-core in /opt/conda/envs/anaconda-panel-2023.05-py310/lib/python3.11/site-packages (from jupyterthemes) (5.3.0)\n",
      "Requirement already satisfied: notebook>=5.6.0 in /opt/conda/envs/anaconda-panel-2023.05-py310/lib/python3.11/site-packages (from jupyterthemes) (6.5.4)\n",
      "Requirement already satisfied: ipython>=5.4.1 in /opt/conda/envs/anaconda-panel-2023.05-py310/lib/python3.11/site-packages (from jupyterthemes) (8.15.0)\n",
      "Requirement already satisfied: matplotlib>=1.4.3 in /opt/conda/envs/anaconda-panel-2023.05-py310/lib/python3.11/site-packages (from jupyterthemes) (3.7.2)\n",
      "Collecting lesscpy>=0.11.2 (from jupyterthemes)\n",
      "  Obtaining dependency information for lesscpy>=0.11.2 from https://files.pythonhosted.org/packages/2a/da/4a20ba69c9c71ce3d522da5a3c617254d1d1430b71f52b7d46dbf2c06b96/lesscpy-0.15.1-py2.py3-none-any.whl.metadata\n",
      "  Downloading lesscpy-0.15.1-py2.py3-none-any.whl.metadata (6.0 kB)\n",
      "Requirement already satisfied: backcall in /opt/conda/envs/anaconda-panel-2023.05-py310/lib/python3.11/site-packages (from ipython>=5.4.1->jupyterthemes) (0.2.0)\n",
      "Requirement already satisfied: decorator in /opt/conda/envs/anaconda-panel-2023.05-py310/lib/python3.11/site-packages (from ipython>=5.4.1->jupyterthemes) (5.1.1)\n",
      "Requirement already satisfied: jedi>=0.16 in /opt/conda/envs/anaconda-panel-2023.05-py310/lib/python3.11/site-packages (from ipython>=5.4.1->jupyterthemes) (0.18.1)\n",
      "Requirement already satisfied: matplotlib-inline in /opt/conda/envs/anaconda-panel-2023.05-py310/lib/python3.11/site-packages (from ipython>=5.4.1->jupyterthemes) (0.1.6)\n",
      "Requirement already satisfied: pickleshare in /opt/conda/envs/anaconda-panel-2023.05-py310/lib/python3.11/site-packages (from ipython>=5.4.1->jupyterthemes) (0.7.5)\n",
      "Requirement already satisfied: prompt-toolkit!=3.0.37,<3.1.0,>=3.0.30 in /opt/conda/envs/anaconda-panel-2023.05-py310/lib/python3.11/site-packages (from ipython>=5.4.1->jupyterthemes) (3.0.36)\n",
      "Requirement already satisfied: pygments>=2.4.0 in /opt/conda/envs/anaconda-panel-2023.05-py310/lib/python3.11/site-packages (from ipython>=5.4.1->jupyterthemes) (2.15.1)\n",
      "Requirement already satisfied: stack-data in /opt/conda/envs/anaconda-panel-2023.05-py310/lib/python3.11/site-packages (from ipython>=5.4.1->jupyterthemes) (0.2.0)\n",
      "Requirement already satisfied: traitlets>=5 in /opt/conda/envs/anaconda-panel-2023.05-py310/lib/python3.11/site-packages (from ipython>=5.4.1->jupyterthemes) (5.7.1)\n",
      "Requirement already satisfied: pexpect>4.3 in /opt/conda/envs/anaconda-panel-2023.05-py310/lib/python3.11/site-packages (from ipython>=5.4.1->jupyterthemes) (4.8.0)\n",
      "Requirement already satisfied: ply in /opt/conda/envs/anaconda-panel-2023.05-py310/lib/python3.11/site-packages (from lesscpy>=0.11.2->jupyterthemes) (3.11)\n",
      "Requirement already satisfied: contourpy>=1.0.1 in /opt/conda/envs/anaconda-panel-2023.05-py310/lib/python3.11/site-packages (from matplotlib>=1.4.3->jupyterthemes) (1.0.5)\n",
      "Requirement already satisfied: cycler>=0.10 in /opt/conda/envs/anaconda-panel-2023.05-py310/lib/python3.11/site-packages (from matplotlib>=1.4.3->jupyterthemes) (0.11.0)\n",
      "Requirement already satisfied: fonttools>=4.22.0 in /opt/conda/envs/anaconda-panel-2023.05-py310/lib/python3.11/site-packages (from matplotlib>=1.4.3->jupyterthemes) (4.25.0)\n",
      "Requirement already satisfied: kiwisolver>=1.0.1 in /opt/conda/envs/anaconda-panel-2023.05-py310/lib/python3.11/site-packages (from matplotlib>=1.4.3->jupyterthemes) (1.4.4)\n",
      "Requirement already satisfied: numpy>=1.20 in /opt/conda/envs/anaconda-panel-2023.05-py310/lib/python3.11/site-packages (from matplotlib>=1.4.3->jupyterthemes) (1.24.3)\n",
      "Requirement already satisfied: packaging>=20.0 in /opt/conda/envs/anaconda-panel-2023.05-py310/lib/python3.11/site-packages (from matplotlib>=1.4.3->jupyterthemes) (23.1)\n",
      "Requirement already satisfied: pillow>=6.2.0 in /opt/conda/envs/anaconda-panel-2023.05-py310/lib/python3.11/site-packages (from matplotlib>=1.4.3->jupyterthemes) (9.4.0)\n",
      "Requirement already satisfied: pyparsing<3.1,>=2.3.1 in /opt/conda/envs/anaconda-panel-2023.05-py310/lib/python3.11/site-packages (from matplotlib>=1.4.3->jupyterthemes) (3.0.9)\n",
      "Requirement already satisfied: python-dateutil>=2.7 in /opt/conda/envs/anaconda-panel-2023.05-py310/lib/python3.11/site-packages (from matplotlib>=1.4.3->jupyterthemes) (2.8.2)\n",
      "Requirement already satisfied: jinja2 in /opt/conda/envs/anaconda-panel-2023.05-py310/lib/python3.11/site-packages (from notebook>=5.6.0->jupyterthemes) (3.1.2)\n",
      "Requirement already satisfied: tornado>=6.1 in /opt/conda/envs/anaconda-panel-2023.05-py310/lib/python3.11/site-packages (from notebook>=5.6.0->jupyterthemes) (6.3.2)\n",
      "Requirement already satisfied: pyzmq>=17 in /opt/conda/envs/anaconda-panel-2023.05-py310/lib/python3.11/site-packages (from notebook>=5.6.0->jupyterthemes) (23.2.0)\n",
      "Requirement already satisfied: argon2-cffi in /opt/conda/envs/anaconda-panel-2023.05-py310/lib/python3.11/site-packages (from notebook>=5.6.0->jupyterthemes) (21.3.0)\n",
      "Requirement already satisfied: jupyter-client>=5.3.4 in /opt/conda/envs/anaconda-panel-2023.05-py310/lib/python3.11/site-packages (from notebook>=5.6.0->jupyterthemes) (7.4.9)\n",
      "Requirement already satisfied: ipython-genutils in /opt/conda/envs/anaconda-panel-2023.05-py310/lib/python3.11/site-packages (from notebook>=5.6.0->jupyterthemes) (0.2.0)\n",
      "Requirement already satisfied: nbformat in /opt/conda/envs/anaconda-panel-2023.05-py310/lib/python3.11/site-packages (from notebook>=5.6.0->jupyterthemes) (5.9.2)\n",
      "Requirement already satisfied: nbconvert>=5 in /opt/conda/envs/anaconda-panel-2023.05-py310/lib/python3.11/site-packages (from notebook>=5.6.0->jupyterthemes) (6.5.4)\n",
      "Requirement already satisfied: nest-asyncio>=1.5 in /opt/conda/envs/anaconda-panel-2023.05-py310/lib/python3.11/site-packages (from notebook>=5.6.0->jupyterthemes) (1.5.6)\n",
      "Requirement already satisfied: ipykernel in /opt/conda/envs/anaconda-panel-2023.05-py310/lib/python3.11/site-packages (from notebook>=5.6.0->jupyterthemes) (6.25.0)\n",
      "Requirement already satisfied: Send2Trash>=1.8.0 in /opt/conda/envs/anaconda-panel-2023.05-py310/lib/python3.11/site-packages (from notebook>=5.6.0->jupyterthemes) (1.8.0)\n",
      "Requirement already satisfied: terminado>=0.8.3 in /opt/conda/envs/anaconda-panel-2023.05-py310/lib/python3.11/site-packages (from notebook>=5.6.0->jupyterthemes) (0.17.1)\n",
      "Requirement already satisfied: prometheus-client in /opt/conda/envs/anaconda-panel-2023.05-py310/lib/python3.11/site-packages (from notebook>=5.6.0->jupyterthemes) (0.14.1)\n",
      "Requirement already satisfied: nbclassic>=0.4.7 in /opt/conda/envs/anaconda-panel-2023.05-py310/lib/python3.11/site-packages (from notebook>=5.6.0->jupyterthemes) (0.5.5)\n",
      "Requirement already satisfied: platformdirs>=2.5 in /opt/conda/envs/anaconda-panel-2023.05-py310/lib/python3.11/site-packages (from jupyter-core->jupyterthemes) (3.10.0)\n",
      "Requirement already satisfied: parso<0.9.0,>=0.8.0 in /opt/conda/envs/anaconda-panel-2023.05-py310/lib/python3.11/site-packages (from jedi>=0.16->ipython>=5.4.1->jupyterthemes) (0.8.3)\n",
      "Requirement already satisfied: entrypoints in /opt/conda/envs/anaconda-panel-2023.05-py310/lib/python3.11/site-packages (from jupyter-client>=5.3.4->notebook>=5.6.0->jupyterthemes) (0.4)\n",
      "Requirement already satisfied: jupyter-server>=1.8 in /opt/conda/envs/anaconda-panel-2023.05-py310/lib/python3.11/site-packages (from nbclassic>=0.4.7->notebook>=5.6.0->jupyterthemes) (1.23.4)\n",
      "Requirement already satisfied: notebook-shim>=0.1.0 in /opt/conda/envs/anaconda-panel-2023.05-py310/lib/python3.11/site-packages (from nbclassic>=0.4.7->notebook>=5.6.0->jupyterthemes) (0.2.2)\n",
      "Requirement already satisfied: lxml in /opt/conda/envs/anaconda-panel-2023.05-py310/lib/python3.11/site-packages (from nbconvert>=5->notebook>=5.6.0->jupyterthemes) (4.9.3)\n",
      "Requirement already satisfied: beautifulsoup4 in /opt/conda/envs/anaconda-panel-2023.05-py310/lib/python3.11/site-packages (from nbconvert>=5->notebook>=5.6.0->jupyterthemes) (4.12.2)\n",
      "Requirement already satisfied: bleach in /opt/conda/envs/anaconda-panel-2023.05-py310/lib/python3.11/site-packages (from nbconvert>=5->notebook>=5.6.0->jupyterthemes) (4.1.0)\n",
      "Requirement already satisfied: defusedxml in /opt/conda/envs/anaconda-panel-2023.05-py310/lib/python3.11/site-packages (from nbconvert>=5->notebook>=5.6.0->jupyterthemes) (0.7.1)\n",
      "Requirement already satisfied: jupyterlab-pygments in /opt/conda/envs/anaconda-panel-2023.05-py310/lib/python3.11/site-packages (from nbconvert>=5->notebook>=5.6.0->jupyterthemes) (0.1.2)\n",
      "Requirement already satisfied: MarkupSafe>=2.0 in /opt/conda/envs/anaconda-panel-2023.05-py310/lib/python3.11/site-packages (from nbconvert>=5->notebook>=5.6.0->jupyterthemes) (2.1.1)\n",
      "Requirement already satisfied: mistune<2,>=0.8.1 in /opt/conda/envs/anaconda-panel-2023.05-py310/lib/python3.11/site-packages (from nbconvert>=5->notebook>=5.6.0->jupyterthemes) (0.8.4)\n",
      "Requirement already satisfied: nbclient>=0.5.0 in /opt/conda/envs/anaconda-panel-2023.05-py310/lib/python3.11/site-packages (from nbconvert>=5->notebook>=5.6.0->jupyterthemes) (0.5.13)\n",
      "Requirement already satisfied: pandocfilters>=1.4.1 in /opt/conda/envs/anaconda-panel-2023.05-py310/lib/python3.11/site-packages (from nbconvert>=5->notebook>=5.6.0->jupyterthemes) (1.5.0)\n",
      "Requirement already satisfied: tinycss2 in /opt/conda/envs/anaconda-panel-2023.05-py310/lib/python3.11/site-packages (from nbconvert>=5->notebook>=5.6.0->jupyterthemes) (1.2.1)\n",
      "Requirement already satisfied: fastjsonschema in /opt/conda/envs/anaconda-panel-2023.05-py310/lib/python3.11/site-packages (from nbformat->notebook>=5.6.0->jupyterthemes) (2.16.2)\n",
      "Requirement already satisfied: jsonschema>=2.6 in /opt/conda/envs/anaconda-panel-2023.05-py310/lib/python3.11/site-packages (from nbformat->notebook>=5.6.0->jupyterthemes) (4.17.3)\n",
      "Requirement already satisfied: ptyprocess>=0.5 in /opt/conda/envs/anaconda-panel-2023.05-py310/lib/python3.11/site-packages (from pexpect>4.3->ipython>=5.4.1->jupyterthemes) (0.7.0)\n",
      "Requirement already satisfied: wcwidth in /opt/conda/envs/anaconda-panel-2023.05-py310/lib/python3.11/site-packages (from prompt-toolkit!=3.0.37,<3.1.0,>=3.0.30->ipython>=5.4.1->jupyterthemes) (0.2.5)\n",
      "Requirement already satisfied: six>=1.5 in /opt/conda/envs/anaconda-panel-2023.05-py310/lib/python3.11/site-packages (from python-dateutil>=2.7->matplotlib>=1.4.3->jupyterthemes) (1.16.0)\n",
      "Requirement already satisfied: argon2-cffi-bindings in /opt/conda/envs/anaconda-panel-2023.05-py310/lib/python3.11/site-packages (from argon2-cffi->notebook>=5.6.0->jupyterthemes) (21.2.0)\n",
      "Requirement already satisfied: comm>=0.1.1 in /opt/conda/envs/anaconda-panel-2023.05-py310/lib/python3.11/site-packages (from ipykernel->notebook>=5.6.0->jupyterthemes) (0.1.2)\n",
      "Requirement already satisfied: debugpy>=1.6.5 in /opt/conda/envs/anaconda-panel-2023.05-py310/lib/python3.11/site-packages (from ipykernel->notebook>=5.6.0->jupyterthemes) (1.6.7)\n",
      "Requirement already satisfied: psutil in /opt/conda/envs/anaconda-panel-2023.05-py310/lib/python3.11/site-packages (from ipykernel->notebook>=5.6.0->jupyterthemes) (5.9.0)\n",
      "Requirement already satisfied: executing in /opt/conda/envs/anaconda-panel-2023.05-py310/lib/python3.11/site-packages (from stack-data->ipython>=5.4.1->jupyterthemes) (0.8.3)\n",
      "Requirement already satisfied: asttokens in /opt/conda/envs/anaconda-panel-2023.05-py310/lib/python3.11/site-packages (from stack-data->ipython>=5.4.1->jupyterthemes) (2.0.5)\n",
      "Requirement already satisfied: pure-eval in /opt/conda/envs/anaconda-panel-2023.05-py310/lib/python3.11/site-packages (from stack-data->ipython>=5.4.1->jupyterthemes) (0.2.2)\n",
      "Requirement already satisfied: attrs>=17.4.0 in /opt/conda/envs/anaconda-panel-2023.05-py310/lib/python3.11/site-packages (from jsonschema>=2.6->nbformat->notebook>=5.6.0->jupyterthemes) (22.1.0)\n",
      "Requirement already satisfied: pyrsistent!=0.17.0,!=0.17.1,!=0.17.2,>=0.14.0 in /opt/conda/envs/anaconda-panel-2023.05-py310/lib/python3.11/site-packages (from jsonschema>=2.6->nbformat->notebook>=5.6.0->jupyterthemes) (0.18.0)\n",
      "Requirement already satisfied: anyio<4,>=3.1.0 in /opt/conda/envs/anaconda-panel-2023.05-py310/lib/python3.11/site-packages (from jupyter-server>=1.8->nbclassic>=0.4.7->notebook>=5.6.0->jupyterthemes) (3.5.0)\n",
      "Requirement already satisfied: websocket-client in /opt/conda/envs/anaconda-panel-2023.05-py310/lib/python3.11/site-packages (from jupyter-server>=1.8->nbclassic>=0.4.7->notebook>=5.6.0->jupyterthemes) (0.58.0)\n",
      "Requirement already satisfied: cffi>=1.0.1 in /opt/conda/envs/anaconda-panel-2023.05-py310/lib/python3.11/site-packages (from argon2-cffi-bindings->argon2-cffi->notebook>=5.6.0->jupyterthemes) (1.15.1)\n",
      "Requirement already satisfied: soupsieve>1.2 in /opt/conda/envs/anaconda-panel-2023.05-py310/lib/python3.11/site-packages (from beautifulsoup4->nbconvert>=5->notebook>=5.6.0->jupyterthemes) (2.4)\n",
      "Requirement already satisfied: webencodings in /opt/conda/envs/anaconda-panel-2023.05-py310/lib/python3.11/site-packages (from bleach->nbconvert>=5->notebook>=5.6.0->jupyterthemes) (0.5.1)\n",
      "Requirement already satisfied: idna>=2.8 in /opt/conda/envs/anaconda-panel-2023.05-py310/lib/python3.11/site-packages (from anyio<4,>=3.1.0->jupyter-server>=1.8->nbclassic>=0.4.7->notebook>=5.6.0->jupyterthemes) (3.4)\n",
      "Requirement already satisfied: sniffio>=1.1 in /opt/conda/envs/anaconda-panel-2023.05-py310/lib/python3.11/site-packages (from anyio<4,>=3.1.0->jupyter-server>=1.8->nbclassic>=0.4.7->notebook>=5.6.0->jupyterthemes) (1.2.0)\n",
      "Requirement already satisfied: pycparser in /opt/conda/envs/anaconda-panel-2023.05-py310/lib/python3.11/site-packages (from cffi>=1.0.1->argon2-cffi-bindings->argon2-cffi->notebook>=5.6.0->jupyterthemes) (2.21)\n",
      "Downloading jupyterthemes-0.20.0-py2.py3-none-any.whl (7.0 MB)\n",
      "\u001b[2K   \u001b[38;5;70m━━━━━━━━━━━━━━━━━━━━━━━━━━━━━━━━━━━━━━━━\u001b[0m \u001b[32m7.0/7.0 MB\u001b[0m \u001b[31m45.9 MB/s\u001b[0m eta \u001b[36m0:00:00\u001b[0m \u001b[36m0:00:01\u001b[0m[36m0:00:01\u001b[0m\n",
      "\u001b[?25hDownloading lesscpy-0.15.1-py2.py3-none-any.whl (46 kB)\n",
      "\u001b[2K   \u001b[38;5;70m━━━━━━━━━━━━━━━━━━━━━━━━━━━━━━━━━━━━━━━━\u001b[0m \u001b[32m46.7/46.7 kB\u001b[0m \u001b[31m1.0 MB/s\u001b[0m eta \u001b[36m0:00:00\u001b[0m3.5 MB/s\u001b[0m eta \u001b[36m0:00:01\u001b[0m\n",
      "\u001b[?25hInstalling collected packages: lesscpy, jupyterthemes\n",
      "\u001b[33m  WARNING: The script lesscpy is installed in '/home/72f85754-6720-4073-b735-84edb54ad3dd/.local/bin' which is not on PATH.\n",
      "  Consider adding this directory to PATH or, if you prefer to suppress this warning, use --no-warn-script-location.\u001b[0m\u001b[33m\n",
      "\u001b[0m\u001b[33m  WARNING: The scripts jt and jupyter-theme are installed in '/home/72f85754-6720-4073-b735-84edb54ad3dd/.local/bin' which is not on PATH.\n",
      "  Consider adding this directory to PATH or, if you prefer to suppress this warning, use --no-warn-script-location.\u001b[0m\u001b[33m\n",
      "\u001b[0mSuccessfully installed jupyterthemes-0.20.0 lesscpy-0.15.1\n",
      "/bin/bash: jt: command not found\n"
     ]
    }
   ],
   "source": [
    "!pip install jupyterthemes\n",
    "!jt -t chesterish\n",
    "    "
   ]
  },
  {
   "cell_type": "markdown",
   "id": "940af64f-cdcc-46cd-bd21-b75dc0f07f23",
   "metadata": {},
   "source": [
    "jt -t onedork"
   ]
  },
  {
   "cell_type": "markdown",
   "id": "7c3f3f02-014f-4766-bc35-0badfd14673e",
   "metadata": {},
   "source": [
    "### Write a program that can multiply 2 numbers provided by the user without using the * operator\n"
   ]
  },
  {
   "cell_type": "code",
   "execution_count": 12,
   "id": "ab1bf70c-b7f9-4eef-8865-65056effc797",
   "metadata": {},
   "outputs": [],
   "source": [
    "def multiply(a,b):\n",
    "    result =0\n",
    "    for _ in range(b):\n",
    "        result += a\n",
    "    return result    "
   ]
  },
  {
   "cell_type": "code",
   "execution_count": 14,
   "id": "83cf0186-deea-45dd-82b6-696e33869b7d",
   "metadata": {},
   "outputs": [
    {
     "name": "stdout",
     "output_type": "stream",
     "text": [
      "110\n"
     ]
    }
   ],
   "source": [
    "print(multiply(10,11))"
   ]
  },
  {
   "cell_type": "markdown",
   "id": "1ab7a627-212f-43da-af97-846ef84f0890",
   "metadata": {},
   "source": [
    "### Write a program that can find the factorial of a given number provided by the user.\n"
   ]
  },
  {
   "cell_type": "code",
   "execution_count": 25,
   "id": "72f62cd5-99a6-40e5-877f-352c93c152a8",
   "metadata": {},
   "outputs": [],
   "source": [
    "def factorial(num):\n",
    "    result = 1\n",
    "    if num == 0:\n",
    "        return result\n",
    "    elif num < 0:\n",
    "        return \"can not be done\"\n",
    "    else:    \n",
    "       for i in range(1,num+1):\n",
    "           result *= i\n",
    "       return result    "
   ]
  },
  {
   "cell_type": "code",
   "execution_count": 31,
   "id": "50274cac-8140-41c8-9808-02aa9d8a8ea7",
   "metadata": {},
   "outputs": [
    {
     "name": "stdout",
     "output_type": "stream",
     "text": [
      "can not be done\n"
     ]
    }
   ],
   "source": [
    "print(factorial(-5))"
   ]
  },
  {
   "cell_type": "markdown",
   "id": "9aa676b4-7f16-4dc7-ba9c-259210d045e7",
   "metadata": {},
   "source": [
    "### Write a program to print the first 25 odd numbers"
   ]
  },
  {
   "cell_type": "code",
   "execution_count": 2,
   "id": "bc19403a-26c7-4d70-97a0-2f298f77587f",
   "metadata": {},
   "outputs": [
    {
     "name": "stdout",
     "output_type": "stream",
     "text": [
      "[1, 3, 5, 7, 9, 11, 13, 15, 17, 19, 21, 23, 25, 27, 29, 31, 33, 35, 37, 39, 41, 43, 45, 47, 49]\n"
     ]
    }
   ],
   "source": [
    "lis = []\n",
    "for i in range(1,60):\n",
    "    if i%2 !=0:\n",
    "        lis.append(i)\n",
    "    if len(lis) == 25:\n",
    "        print(lis) \n",
    "        break\n",
    "       "
   ]
  },
  {
   "cell_type": "markdown",
   "id": "d39cda34-02ca-4e18-be9f-6950a1db0668",
   "metadata": {},
   "source": [
    "### Write a program to print whether a given number is prime number or not"
   ]
  },
  {
   "cell_type": "code",
   "execution_count": 21,
   "id": "cee4c7e0-cce4-46cb-8ab8-758ac3d7deb2",
   "metadata": {},
   "outputs": [],
   "source": [
    "def is_prime(num):\n",
    "    if num == 0:\n",
    "        return \"number is zero\"\n",
    "    else:\n",
    "        if num < 0:\n",
    "            num = -(num)\n",
    "        for i in range(2,num):\n",
    "            if num % i == 0:\n",
    "              return \"not prime\"\n",
    "              exit()\n",
    "            else:\n",
    "              return \"prime\"\n",
    "              exit()\n",
    "        "
   ]
  },
  {
   "cell_type": "code",
   "execution_count": 23,
   "id": "b12019f7-9eab-42ea-91dc-7d2af1afab23",
   "metadata": {},
   "outputs": [
    {
     "name": "stdout",
     "output_type": "stream",
     "text": [
      "prime\n"
     ]
    }
   ],
   "source": [
    "print(is_prime(7))"
   ]
  },
  {
   "cell_type": "markdown",
   "id": "a4ab8ada-20c0-4a3d-b0c4-438a1413532c",
   "metadata": {},
   "source": [
    "### Print all the armstrong numbers in the range of 100 to 1000"
   ]
  },
  {
   "cell_type": "code",
   "execution_count": 35,
   "id": "88730e95-08cf-40f4-a9ba-2113d5a12b86",
   "metadata": {},
   "outputs": [
    {
     "name": "stdout",
     "output_type": "stream",
     "text": [
      "[153, 370, 371, 407]\n"
     ]
    }
   ],
   "source": [
    "lis = []\n",
    "for i in range(100,1001):\n",
    "    count = 0\n",
    "    sum = 0\n",
    "    \n",
    "    for digit in str(i):\n",
    "        count = count+1\n",
    "    for digit in str(i):\n",
    "         sum = sum + int(digit)**count\n",
    "    if i == sum:\n",
    "          lis.append(i)\n",
    "print(lis)        \n",
    "        \n",
    "    "
   ]
  },
  {
   "cell_type": "markdown",
   "id": "6b040cf4-e5c5-44e5-aa89-4bfee0824506",
   "metadata": {},
   "source": [
    "### The current population of a town is 10000. The population of the town is increasing at the rate of 10% per year. You have to write a program to find out the population at the end of each of the last 10 years. For eg current population is 10000 so the output should be like this:\r\n",
    "10th year - 10000\r\n",
    "9th year - 9000\r\n",
    "8th year - 8100 and so on\r\n"
   ]
  },
  {
   "cell_type": "code",
   "execution_count": 41,
   "id": "15b5f0f3-8e3b-4f98-bdd8-024c317cd694",
   "metadata": {},
   "outputs": [
    {
     "name": "stdout",
     "output_type": "stream",
     "text": [
      "the population at 10th year was 9090.909\n",
      "the population at 9th year was 8264.463\n",
      "the population at 8th year was 7513.148\n",
      "the population at 7th year was 6830.135\n",
      "the population at 6th year was 6209.213\n",
      "the population at 5th year was 5644.739\n",
      "the population at 4th year was 5131.581\n",
      "the population at 3th year was 4665.074\n",
      "the population at 2th year was 4240.976\n",
      "the population at 1th year was 3855.433\n"
     ]
    }
   ],
   "source": [
    "current = 10000\n",
    "growth = 0.1\n",
    "for i in range(10,0,-1):\n",
    "    previous = current/(1+growth)\n",
    "    print(f\"the population at {i}th year was {previous:.3f}\")\n",
    "    current = previous\n",
    "    "
   ]
  },
  {
   "cell_type": "markdown",
   "id": "9b11b6d0-c679-4325-8a86-f562d078774b",
   "metadata": {},
   "source": [
    "### Write a program to print all the unique combinations of 1,2,3 and 4"
   ]
  },
  {
   "cell_type": "code",
   "execution_count": 44,
   "id": "34f98e84-fdfb-4564-8e5d-c11e85d54915",
   "metadata": {},
   "outputs": [
    {
     "name": "stdout",
     "output_type": "stream",
     "text": [
      "(1,)\n",
      "(2,)\n",
      "(3,)\n",
      "(4,)\n",
      "(5,)\n",
      "(1, 2)\n",
      "(1, 3)\n",
      "(1, 4)\n",
      "(1, 5)\n",
      "(2, 3)\n",
      "(2, 4)\n",
      "(2, 5)\n",
      "(3, 4)\n",
      "(3, 5)\n",
      "(4, 5)\n",
      "(1, 2, 3)\n",
      "(1, 2, 4)\n",
      "(1, 2, 5)\n",
      "(1, 3, 4)\n",
      "(1, 3, 5)\n",
      "(1, 4, 5)\n",
      "(2, 3, 4)\n",
      "(2, 3, 5)\n",
      "(2, 4, 5)\n",
      "(3, 4, 5)\n",
      "(1, 2, 3, 4)\n",
      "(1, 2, 3, 5)\n",
      "(1, 2, 4, 5)\n",
      "(1, 3, 4, 5)\n",
      "(2, 3, 4, 5)\n",
      "(1, 2, 3, 4, 5)\n"
     ]
    }
   ],
   "source": [
    "import itertools\n",
    "\n",
    "lis = [1,2,3,4,5]\n",
    "for i in range(1,len(lis)+1):\n",
    "    permutation = itertools.combinations(lis,i)\n",
    "    for comb in permutation:\n",
    "        print(comb)"
   ]
  },
  {
   "cell_type": "markdown",
   "id": "8eb7c895-0071-4371-b226-961b469b96e2",
   "metadata": {},
   "source": [
    "### User will provide 2 numbers you have to find the HCF of those 2 numbers\n",
    "User will provide 2 numbers you have to find the by LCM of those 2 numbers\n"
   ]
  },
  {
   "cell_type": "code",
   "execution_count": 57,
   "id": "9f5cd2b7-bb10-4e48-bcd9-2b1d63f851c7",
   "metadata": {},
   "outputs": [
    {
     "name": "stdout",
     "output_type": "stream",
     "text": [
      "10 20\n"
     ]
    }
   ],
   "source": [
    "import math\n",
    "\n",
    "hcf = math.gcd(10,20)\n",
    "lc = math.lcm(10,20)\n",
    "print (hcf , lc)"
   ]
  },
  {
   "cell_type": "markdown",
   "id": "c7a0a4b8-3d4d-4979-854a-9ccad2124934",
   "metadata": {},
   "source": [
    "### fibonacci series"
   ]
  },
  {
   "cell_type": "code",
   "execution_count": 77,
   "id": "d919dcb4-be5b-411f-86bb-99ac90b2b01f",
   "metadata": {},
   "outputs": [],
   "source": [
    "def fibonacci(num):\n",
    "    lis = []\n",
    "    a , b = 0,1\n",
    "    lis.extend([a,b])\n",
    "    for i in range(num-2):\n",
    "        c = a + b\n",
    "        lis.append(c)\n",
    "        a,b = b,c\n",
    "    return lis\n",
    " "
   ]
  },
  {
   "cell_type": "code",
   "execution_count": 79,
   "id": "8f565d45-c815-4d85-a84c-01767d61b983",
   "metadata": {},
   "outputs": [
    {
     "name": "stdout",
     "output_type": "stream",
     "text": [
      "[0, 1, 1, 2, 3, 5, 8, 13, 21, 34, 55, 89, 144, 233, 377, 610, 987, 1597, 2584, 4181]\n"
     ]
    }
   ],
   "source": [
    "print(f\"{fibonacci(20)}\")  "
   ]
  },
  {
   "cell_type": "markdown",
   "id": "2062fd30-df6a-447f-b17d-672b8c319074",
   "metadata": {},
   "source": [
    "### Write a Python program that accepts an integer (n) and computes the value of n+nn+nnn."
   ]
  },
  {
   "cell_type": "code",
   "execution_count": 104,
   "id": "4ec98322-4651-4324-868b-1ae6000fb85d",
   "metadata": {},
   "outputs": [],
   "source": [
    "import numpy as np\n",
    "def compute(num):\n",
    "    str1 = num+num + num\n",
    "    str2 = num + num\n",
    "    return int(num)+ int(str1) + int(str2)\n",
    "    "
   ]
  },
  {
   "cell_type": "code",
   "execution_count": 108,
   "id": "e41cb0f4-4bca-4ffa-bf98-a0b0aa20ee38",
   "metadata": {},
   "outputs": [
    {
     "data": {
      "text/plain": [
       "123"
      ]
     },
     "execution_count": 108,
     "metadata": {},
     "output_type": "execute_result"
    }
   ],
   "source": [
    "compute(\"1\")"
   ]
  },
  {
   "cell_type": "markdown",
   "id": "cd76d992-f968-4448-baa2-c4d3cadd1600",
   "metadata": {},
   "source": [
    "### Find the reverse of a number provided by the user(any number of digit) "
   ]
  },
  {
   "cell_type": "code",
   "execution_count": 130,
   "id": "a883d600-012b-43f2-a8ab-2a0126d23613",
   "metadata": {},
   "outputs": [],
   "source": [
    "def rever(num):\n",
    "    count = 0\n",
    "    str = \"\"\n",
    "    for digit in num:\n",
    "        count += 1\n",
    "        \n",
    "    for i in range(count-1,-1,-1):\n",
    "        str = str + num[i]\n",
    "        \n",
    "    return( count , int(str))\n"
   ]
  },
  {
   "cell_type": "code",
   "execution_count": 132,
   "id": "570a1fc3-c7f3-47ce-992a-896e7b467d36",
   "metadata": {},
   "outputs": [
    {
     "name": "stdout",
     "output_type": "stream",
     "text": [
      "3 234\n"
     ]
    }
   ],
   "source": [
    "a , b = rever(\"432\")\n",
    "print(a,b)"
   ]
  },
  {
   "cell_type": "markdown",
   "id": "ad465b20-8f8d-4734-bdcb-48ab98c92d3b",
   "metadata": {},
   "source": [
    "### Print all factors of a given number provided by the user."
   ]
  },
  {
   "cell_type": "code",
   "execution_count": 135,
   "id": "22ec4177-56c0-457c-9371-3f7db6f04515",
   "metadata": {},
   "outputs": [
    {
     "name": "stdin",
     "output_type": "stream",
     "text": [
      "Enter a number to find its factors:  20\n"
     ]
    },
    {
     "name": "stdout",
     "output_type": "stream",
     "text": [
      "Factors of 20:\n",
      "1\n",
      "2\n",
      "4\n",
      "5\n",
      "10\n",
      "20\n"
     ]
    }
   ],
   "source": [
    "# Function to find and print factors of a number\n",
    "def print_factors(number):\n",
    "    print(f\"Factors of {number}:\")\n",
    "    for i in range(1, number + 1):\n",
    "        if number % i == 0:\n",
    "            print(i)\n",
    "\n",
    "# Get input from the user\n",
    "user_input = int(input(\"Enter a number to find its factors: \"))\n",
    "\n",
    "# Print factors of the input number\n",
    "print_factors(user_input)\n"
   ]
  },
  {
   "cell_type": "markdown",
   "id": "8a95b6e4-beac-4293-9907-6528402755c0",
   "metadata": {},
   "source": [
    "### Write a program to print the following pattern\n",
    "       *\n",
    "       **\n",
    "\n"
   ]
  },
  {
   "cell_type": "code",
   "execution_count": 140,
   "id": "906b4474-f10c-4f99-b563-f69a683591d4",
   "metadata": {},
   "outputs": [
    {
     "name": "stdout",
     "output_type": "stream",
     "text": [
      "*\n",
      "**\n",
      "***\n",
      "****\n",
      "*****\n"
     ]
    }
   ],
   "source": [
    "for i in range(1,6):\n",
    "   print(\"*\"*i)"
   ]
  },
  {
   "cell_type": "markdown",
   "id": "3edfcceb-f45c-48e9-a8db-de5720ba312c",
   "metadata": {},
   "source": [
    "### Write a program to print the following pattern\n",
    "        *\n",
    "        **\n",
    "        ***\n",
    "\n"
   ]
  },
  {
   "cell_type": "code",
   "execution_count": 143,
   "id": "72405c24-545e-4689-89c8-8eca63c8e9a5",
   "metadata": {},
   "outputs": [
    {
     "name": "stdout",
     "output_type": "stream",
     "text": [
      "*\n",
      "**\n",
      "***\n",
      "**\n",
      "*\n"
     ]
    }
   ],
   "source": [
    "li= [1,2,3,2,1]\n",
    "for count in li:\n",
    "    print(\"*\"*count)"
   ]
  },
  {
   "cell_type": "markdown",
   "id": "1e7983d1-527a-44b5-b394-1a12e0a2a8fb",
   "metadata": {},
   "source": [
    "### Write  a program to print the following pattern\n",
    "        *\n",
    "      * * *\n",
    "    * * * * *\n"
   ]
  },
  {
   "cell_type": "code",
   "execution_count": 160,
   "id": "34fb8e5d-4697-45eb-9024-2ed17033df16",
   "metadata": {},
   "outputs": [],
   "source": [
    "def pattern(num):\n",
    "    count = 1\n",
    "    for i in range(num,0,-1):\n",
    "        print(\" \"* (i-1) , \"*\"*count)\n",
    "        count += 2\n",
    "        "
   ]
  },
  {
   "cell_type": "code",
   "execution_count": 162,
   "id": "7a4c1366-1a27-456c-b58b-9338494d0832",
   "metadata": {},
   "outputs": [
    {
     "name": "stdout",
     "output_type": "stream",
     "text": [
      "     *\n",
      "    ***\n",
      "   *****\n",
      "  *******\n",
      " *********\n"
     ]
    }
   ],
   "source": [
    "pattern(5)"
   ]
  },
  {
   "cell_type": "markdown",
   "id": "db8e3db8-96a7-4d79-be71-9ecfd4aa5c1e",
   "metadata": {},
   "source": [
    "### Write a program to print the following pattern\n",
    "        1\n",
    "        1 2 1\n",
    "        1 2 3 2 1\n"
   ]
  },
  {
   "cell_type": "code",
   "execution_count": 178,
   "id": "8ab76ddc-b4a2-41fe-89ce-ede46b9be06b",
   "metadata": {},
   "outputs": [],
   "source": [
    "def pattern(num):\n",
    "    for i in range(1,num+1):\n",
    "        for j in range(1,i+1):\n",
    "            print(j,end =\" \")\n",
    "        for j in range(i-1,0,-1):\n",
    "            print(j,end = \" \")\n",
    "        print()    \n",
    "    \n"
   ]
  },
  {
   "cell_type": "code",
   "execution_count": 180,
   "id": "41233fef-e3e3-4a38-a36e-f4fc27db7f46",
   "metadata": {},
   "outputs": [
    {
     "name": "stdout",
     "output_type": "stream",
     "text": [
      "1 \n",
      "1 2 1 \n",
      "1 2 3 2 1 \n",
      "1 2 3 4 3 2 1 \n",
      "1 2 3 4 5 4 3 2 1 \n"
     ]
    }
   ],
   "source": [
    "pattern(5)"
   ]
  },
  {
   "cell_type": "markdown",
   "id": "9a85765d-17ec-4e22-ab0e-a4896cf027d1",
   "metadata": {},
   "source": [
    "### Write a program to print the following pattern\n",
    "          1\n",
    "          2 3\n",
    "          4 5 6\n",
    "          7 8 9 10\n"
   ]
  },
  {
   "cell_type": "code",
   "execution_count": 197,
   "id": "575653d1-9375-439f-8492-2360b2110c64",
   "metadata": {},
   "outputs": [
    {
     "name": "stdout",
     "output_type": "stream",
     "text": [
      "1 \n",
      "2 3 \n",
      "4 5 6 \n",
      "7 8 9 10 \n",
      "11 12 13 14 15 \n"
     ]
    }
   ],
   "source": [
    "def pattern(rows):\n",
    "    num = 1\n",
    "    for i in range(rows):\n",
    "        for j in range(i,-1,-1):\n",
    "            print(num,end=\" \")\n",
    "            num += 1\n",
    "        print()   \n",
    "  \n",
    "\n",
    "\n",
    "pattern(5)\n",
    "\n",
    "\n",
    "        "
   ]
  },
  {
   "cell_type": "markdown",
   "id": "6d949f28-e34f-4893-92d2-393859b10d56",
   "metadata": {},
   "source": [
    "### Write a program to calculate the sum of the following series till the nth term\n",
    "            1/1! + 2/2! + 3/3! + 4/4! +…….+ n/n!\n",
    "             n will be provided by the user\n"
   ]
  },
  {
   "cell_type": "code",
   "execution_count": 211,
   "id": "0fbcd29b-5aaf-4d93-ad9d-e98588550192",
   "metadata": {},
   "outputs": [
    {
     "name": "stdin",
     "output_type": "stream",
     "text": [
      "give the enumber 5\n"
     ]
    },
    {
     "name": "stdout",
     "output_type": "stream",
     "text": [
      "2.71\n"
     ]
    }
   ],
   "source": [
    "def factorial(num):\n",
    "    result = 1\n",
    "    if num == 0:\n",
    "        return result\n",
    "    elif num < 0:\n",
    "        return \"can not be done\"\n",
    "    else:    \n",
    "       for i in range(1,num+1):\n",
    "           result *= i\n",
    "       return result \n",
    "\n",
    "\n",
    "number = int(input(\"give the enumber\"))\n",
    "sum = 0\n",
    "for i in range(1,number+1):\n",
    "    sum = sum + i/factorial(i)\n",
    "\n",
    "print(f\"{sum:.2f}\")    \n",
    "        \n",
    "             "
   ]
  },
  {
   "cell_type": "markdown",
   "id": "0d561cc1-d30f-40ea-98d7-7ca474fb5f05",
   "metadata": {},
   "source": [
    "### Write a Python Program to Find the Sum of the Series till the nth term: \n",
    "          1 + x^2/2 + x^3/3 + … x^n/n\n",
    "           n will be provided by the user\n"
   ]
  },
  {
   "cell_type": "code",
   "execution_count": 222,
   "id": "d20639d1-ac47-44fc-af26-9c5f93e313c0",
   "metadata": {},
   "outputs": [
    {
     "name": "stdin",
     "output_type": "stream",
     "text": [
      "give the enumber 5\n"
     ]
    },
    {
     "name": "stdout",
     "output_type": "stream",
     "text": [
      "836.42\n"
     ]
    }
   ],
   "source": [
    "number = int(input(\"give the enumber\"))\n",
    "sum = 1\n",
    "for i in range(2,number+1):\n",
    "    sum = sum + number**i/i\n",
    "\n",
    "print(f\"{sum:.2f}\")"
   ]
  },
  {
   "cell_type": "markdown",
   "id": "8ae8867c-a367-468a-b5b4-fbe90f041a19",
   "metadata": {},
   "source": [
    "### The natural logarithm can be approximated by the following series.\n",
    "\n",
    "     If x is input through the keyboard, write a program to calculate the sum of the first seven terms of this series.\n"
   ]
  },
  {
   "cell_type": "code",
   "execution_count": 226,
   "id": "2dc03295-3b78-4dc8-a3b0-97f8a18216e0",
   "metadata": {},
   "outputs": [
    {
     "name": "stdin",
     "output_type": "stream",
     "text": [
      "give the enumber 5\n",
      "give the enumber 4\n"
     ]
    },
    {
     "name": "stdout",
     "output_type": "stream",
     "text": [
      "1.58\n"
     ]
    }
   ],
   "source": [
    "number = int(input(\"give the enumber\"))\n",
    "pow = int(input(\"give the enumber\"))\n",
    "\n",
    "sum = (number-1)/number\n",
    "\n",
    "for i in range(2,pow+1):\n",
    "    sum = sum + ((1/2)*(((number -1)/number)**i))\n",
    "\n",
    "print(f\"{sum:.2f}\")"
   ]
  },
  {
   "cell_type": "markdown",
   "id": "13902951-b85a-44d9-bc93-917da4e0eb43",
   "metadata": {},
   "source": [
    "### Write a program that keeps on accepting a number from the user until the user enters Zero. Display the sum and average of all the numbers.\n"
   ]
  },
  {
   "cell_type": "code",
   "execution_count": 6,
   "id": "4fe524a4-f40e-4d9e-88f5-1d28760ac0f6",
   "metadata": {},
   "outputs": [
    {
     "name": "stdin",
     "output_type": "stream",
     "text": [
      "insert any integer 10\n",
      "insert any integer 20\n",
      "insert any integer 30\n",
      "insert any integer 0\n"
     ]
    },
    {
     "name": "stdout",
     "output_type": "stream",
     "text": [
      "60 20.0\n"
     ]
    }
   ],
   "source": [
    "sum = 0\n",
    "avg = 0\n",
    "i = 0\n",
    "while(True):\n",
    "    num = int(input(\"insert any integer\"))\n",
    "    if num == 0:\n",
    "        break\n",
    "    sum = sum + num\n",
    "    i = i+1\n",
    "    avg =  sum/(i)\n",
    "\n",
    "print(sum , avg)\n",
    "\n"
   ]
  },
  {
   "cell_type": "markdown",
   "id": "735268df-5d1f-4029-bb08-a14eef13d1d9",
   "metadata": {},
   "source": [
    "### Write a program that accepts 2 numbers from the user a numerator and a denominator and then simplifies it\n",
    "          Eg if the num = 5, den = 15 the answer should be ⅓\n",
    "          Eg if the num = 6, den = 9 the answer should be ⅔\n"
   ]
  },
  {
   "cell_type": "code",
   "execution_count": 27,
   "id": "289c66d7-c215-43ea-b9e1-c6d9fc729807",
   "metadata": {},
   "outputs": [
    {
     "name": "stdin",
     "output_type": "stream",
     "text": [
      "insert first number 8\n",
      "insert second number 7\n"
     ]
    },
    {
     "name": "stdout",
     "output_type": "stream",
     "text": [
      "8/7\n"
     ]
    }
   ],
   "source": [
    "from math import gcd\n",
    "num1 = int(input(\"insert first number\"))\n",
    "num2 = int(input(\"insert second number\"))\n",
    "divisor = gcd(num1,num2)\n",
    "simple_numerator = num1 // divisor\n",
    "simple_denominator = num2 // divisor\n",
    "print(f\"{simple_numerator}/{ simple_denominator}\")\n",
    "\n"
   ]
  },
  {
   "cell_type": "markdown",
   "id": "d08bc94a-ce67-40be-bee7-a9afeac688f2",
   "metadata": {},
   "source": [
    "### Extract username from a given email. \n",
    "Eg if the email is nitish24singh@gmail.com then the username should be nitish24singh\n",
    "\n",
    "Count the frequency of a particular character in a provided string. Eg 'hello how are you' is the string, the frequency of h in this string is 2."
   ]
  },
  {
   "cell_type": "code",
   "execution_count": 42,
   "id": "506bbc00-47e6-4e7d-b1d7-51a6ab89259c",
   "metadata": {},
   "outputs": [
    {
     "name": "stdin",
     "output_type": "stream",
     "text": [
      "insert the email hello how are you hello @gmail.com\n"
     ]
    },
    {
     "name": "stdout",
     "output_type": "stream",
     "text": [
      "hello how are you hello \n",
      "2\n"
     ]
    }
   ],
   "source": [
    "str = input(\"insert the email\")\n",
    "name = \"\"\n",
    "for dig in str:\n",
    "    if dig == \"@\":\n",
    "        break\n",
    "    name = name + dig\n",
    "print(name)\n",
    "print(name.count('hello'))"
   ]
  },
  {
   "cell_type": "markdown",
   "id": "ace68a91-d1be-41b4-8743-888ea769774a",
   "metadata": {},
   "source": [
    "### Find the index position of a particular character in another string."
   ]
  },
  {
   "cell_type": "code",
   "execution_count": 53,
   "id": "d737194f-c93c-47a6-8652-b037b45b8bb7",
   "metadata": {},
   "outputs": [
    {
     "name": "stdout",
     "output_type": "stream",
     "text": [
      "5\n"
     ]
    }
   ],
   "source": [
    "str = \"insert the email email\"\n",
    "print(str.index('t'))"
   ]
  },
  {
   "cell_type": "markdown",
   "id": "207000dd-94bf-4e07-917c-1a7bcf25b9cc",
   "metadata": {},
   "source": [
    "### Count the number of vowels in a string provided by the user."
   ]
  },
  {
   "cell_type": "code",
   "execution_count": 64,
   "id": "0532b4ab-f293-4025-adf9-53d32deee959",
   "metadata": {},
   "outputs": [
    {
     "name": "stdout",
     "output_type": "stream",
     "text": [
      "11\n"
     ]
    }
   ],
   "source": [
    "str = \"insert the email owl umm email\"\n",
    "vowel = ('a','e','i','o','u')\n",
    "count = 0\n",
    "for v in vowel:\n",
    "    count = count +str.count(v)\n",
    "print(count)    \n",
    "    "
   ]
  },
  {
   "cell_type": "markdown",
   "id": "a1e29734-190b-45bc-b87d-3cf03a846a5c",
   "metadata": {},
   "source": [
    "### Write a program which can remove a particular character from a string. "
   ]
  },
  {
   "cell_type": "code",
   "execution_count": 75,
   "id": "cf3501ce-6663-4615-a04b-f1793804c1a1",
   "metadata": {},
   "outputs": [
    {
     "name": "stdout",
     "output_type": "stream",
     "text": [
      "my name is anthny gnsalvis\n"
     ]
    }
   ],
   "source": [
    "str = \"my name is anthony gonsalvis\"\n",
    "str = str.replace('o', '')\n",
    "print(str)"
   ]
  },
  {
   "cell_type": "markdown",
   "id": "3bdc9aa9-0420-4a3d-996c-0c161cdf2e92",
   "metadata": {},
   "source": [
    "### Write a program that can check whether a given string is palindrome or not.\n"
   ]
  },
  {
   "cell_type": "code",
   "execution_count": 80,
   "id": "56617dcf-998d-49b1-9da8-312172ec95bb",
   "metadata": {},
   "outputs": [
    {
     "name": "stdout",
     "output_type": "stream",
     "text": [
      "True\n"
     ]
    }
   ],
   "source": [
    "str = \"mmumm\"\n",
    "if str == str[::-1]:\n",
    "    print(True)\n",
    "else:\n",
    "    print(False)"
   ]
  },
  {
   "cell_type": "markdown",
   "id": "96a45b64-f9a3-43cd-89be-e334461ca5fb",
   "metadata": {},
   "source": [
    "### Write a python program to remove all the duplicates from a lis"
   ]
  },
  {
   "cell_type": "code",
   "execution_count": 129,
   "id": "a0ee2c24-8c2f-478a-989c-db31d85394de",
   "metadata": {},
   "outputs": [
    {
     "name": "stdout",
     "output_type": "stream",
     "text": [
      "[1, 2, 3, 4, 5, 7]\n",
      "7\n"
     ]
    }
   ],
   "source": [
    "# Renaming the variable to avoid conflict with the built-in lis function\n",
    "my_lis = [1, 2, 3, 4, 5, 7, 5, 4, 3]\n",
    "lis = []\n",
    "# Using the built-in lis function to convert the set back to a lis\n",
    "a = (set(my_lis))  # This will print the unique elements from the lis\n",
    "lis.extend(a)\n",
    "print(lis)\n",
    "print(max(lis))\n"
   ]
  },
  {
   "cell_type": "markdown",
   "id": "a74f5582-b98b-4948-8da0-7171973a686b",
   "metadata": {},
   "source": [
    "### Write a python program to convert a string to title case without using the title()"
   ]
  },
  {
   "cell_type": "code",
   "execution_count": 123,
   "id": "e5ca0951-494d-4be0-8336-f2319f31126e",
   "metadata": {},
   "outputs": [
    {
     "name": "stdout",
     "output_type": "stream",
     "text": [
      "ABH IS MDJR\n",
      "Abh Is Mdjr\n"
     ]
    }
   ],
   "source": [
    "string1 = \"abh is mdjr\"\n",
    "print(string1.upper())\n",
    "print(string1.title())\n"
   ]
  },
  {
   "cell_type": "markdown",
   "id": "a0cd291e-bba3-4c6b-9e62-b4ba161d36d6",
   "metadata": {},
   "source": [
    "### Write a python program to reverse a list"
   ]
  },
  {
   "cell_type": "code",
   "execution_count": 164,
   "id": "aeae5481-97ef-4f83-91fe-8c866ab42111",
   "metadata": {},
   "outputs": [
    {
     "name": "stdout",
     "output_type": "stream",
     "text": [
      "[3, 4, 5, 7, 5, 4, 3, 2, 1]\n"
     ]
    }
   ],
   "source": [
    "my_lis = [1, 2, 3, 4, 5, 7, 5, 4, 3]\n",
    "print(my_lis[8::-1])"
   ]
  },
  {
   "cell_type": "markdown",
   "id": "3ad49933-490d-44af-b3fe-a12116c39e08",
   "metadata": {},
   "source": [
    "### Write a python program to search a given number from a list"
   ]
  },
  {
   "cell_type": "code",
   "execution_count": 171,
   "id": "27430f30-ad93-439a-8c84-14b8ab58846d",
   "metadata": {},
   "outputs": [
    {
     "name": "stdin",
     "output_type": "stream",
     "text": [
      "enter the number 9\n"
     ]
    }
   ],
   "source": [
    "num = int(input(\"enter the number\"))\n",
    "my_list = [1,4,6,8,93,0,7]\n",
    "for i in my_list:\n",
    "    if i==num:\n",
    "        print(\"Present\")\n",
    "        break\n",
    "\n"
   ]
  },
  {
   "cell_type": "markdown",
   "id": "145ad7c0-324c-4fe6-93b9-906a6834e359",
   "metadata": {},
   "source": [
    "### Write a program that can create a new list from a given list where each item in the new list is square of the item of the old list\n"
   ]
  },
  {
   "cell_type": "code",
   "execution_count": 178,
   "id": "fea200f0-d7df-4b57-8ea5-deef400e6bba",
   "metadata": {},
   "outputs": [
    {
     "data": {
      "text/plain": [
       "[1, 4, 9, 16, 25, 49, 25, 16, 9]"
      ]
     },
     "execution_count": 178,
     "metadata": {},
     "output_type": "execute_result"
    }
   ],
   "source": [
    "my_lis = [1, 2, 3, 4, 5, 7, 5, 4, 3]\n",
    "new_lis = []\n",
    "for i in my_lis:\n",
    "    new_lis.append(i*i)\n",
    "\n",
    "new_lis                   \n"
   ]
  },
  {
   "cell_type": "markdown",
   "id": "e4fb08da-ad21-427b-ba7c-59a5462b3ce2",
   "metadata": {},
   "source": [
    "### Write a program that can reverse words of a given string.\n",
    "Eg if the input is Hello how are you\n",
    "Output should be you are how Hello\n"
   ]
  },
  {
   "cell_type": "code",
   "execution_count": 217,
   "id": "e278afa5-5e8d-4681-bcf0-7393ef881f07",
   "metadata": {},
   "outputs": [
    {
     "name": "stdout",
     "output_type": "stream",
     "text": [
      "4\n",
      "you are how hello\n"
     ]
    },
    {
     "data": {
      "text/plain": [
       "17"
      ]
     },
     "execution_count": 217,
     "metadata": {},
     "output_type": "execute_result"
    }
   ],
   "source": [
    "string1 = \"hello how are you\"\n",
    "my_lis =[]\n",
    "string2 = string1.split()\n",
    "print(len(string2))\n",
    "string2.reverse()\n",
    "string2 = \" \".join(string2)\n",
    "print(string2)\n",
    "len(string2)"
   ]
  },
  {
   "cell_type": "markdown",
   "id": "4d858150-d872-406a-af10-c045822fc69a",
   "metadata": {},
   "source": [
    "### Write a program to check if a list is in ascending order or not"
   ]
  },
  {
   "cell_type": "code",
   "execution_count": 252,
   "id": "b6e9f956-6506-4762-a380-2c994b0f6edc",
   "metadata": {},
   "outputs": [
    {
     "name": "stdout",
     "output_type": "stream",
     "text": [
      "[1, 2, 3, 4, 6, 5]\n",
      "[1, 2, 3, 4, 5, 6]\n"
     ]
    }
   ],
   "source": [
    "my_lis = [1, 2, 3, 4,6, 5]\n",
    "if my_lis == sorted(my_lis,reverse= False):\n",
    "    print(\"ascending\")\n",
    "elif my_lis == sorted(my_lis,reverse= True):\n",
    "    print(\"descending\") \n",
    "    \n",
    "print(my_lis)\n",
    "\n",
    "(my_lis.sort())\n",
    "\n",
    "print(my_lis)\n"
   ]
  },
  {
   "cell_type": "markdown",
   "id": "afe26642-c00f-4bf2-bec9-8c79c50a7b6c",
   "metadata": {},
   "source": [
    "### Create 2 lists from a given list where 1st list will contain all the odd numbers from the original list and the 2nd one will contain all the even numbers "
   ]
  },
  {
   "cell_type": "code",
   "execution_count": 261,
   "id": "e8feb5a4-ccc1-43cd-aafc-14733951ffe3",
   "metadata": {},
   "outputs": [
    {
     "name": "stdout",
     "output_type": "stream",
     "text": [
      "[2, 4, 6, 8, 10]\n",
      "[1, 3, 5, 7, 9]\n"
     ]
    }
   ],
   "source": [
    "my_lis = [1, 2, 3, 4,6, 5,7,9,8,10]\n",
    "my_lis1 =[]\n",
    "my_lis2 =[]\n",
    "for i in my_lis:\n",
    "   if i % 2 == 0:\n",
    "       my_lis1.append(i)\n",
    "   else:\n",
    "       my_lis2.append(i)\n",
    "\n",
    "print(my_lis1)\n",
    "\n",
    "print(my_lis2)"
   ]
  },
  {
   "cell_type": "markdown",
   "id": "5f289b06-5295-4179-8169-f11810f746c8",
   "metadata": {},
   "source": [
    "### Write a program to merge 2 list without using the + operator\n"
   ]
  },
  {
   "cell_type": "code",
   "execution_count": 268,
   "id": "953c5ded-5930-44c4-8b29-d85ecd594eab",
   "metadata": {},
   "outputs": [
    {
     "name": "stdout",
     "output_type": "stream",
     "text": [
      "[5, 7, 9, 8, 10, 1, 2, 3, 4, 6]\n",
      "[1, 2, 3, 4, 6, 5, 7, 9, 8, 10, 1, 2, 3, 4, 6]\n"
     ]
    }
   ],
   "source": [
    "my_lis = [1, 2, 3, 4,6]\n",
    "my_lis1 =[5,7,9,8,10]\n",
    "my_lis1.extend(my_lis)\n",
    "print(my_lis1)\n",
    "my_lis2 = my_lis + my_lis1\n",
    "\n",
    "print(my_lis2)"
   ]
  },
  {
   "cell_type": "markdown",
   "id": "0200bd65-c3cc-42b7-9dc4-4c77f6c81871",
   "metadata": {},
   "source": [
    "### Write a program to replace an item with a different item if found in the list "
   ]
  },
  {
   "cell_type": "code",
   "execution_count": 273,
   "id": "96fa73e8-caf5-43c8-99f9-6db1a5f79382",
   "metadata": {},
   "outputs": [
    {
     "data": {
      "text/plain": [
       "[1, 2, 3, 5, 6]"
      ]
     },
     "execution_count": 273,
     "metadata": {},
     "output_type": "execute_result"
    }
   ],
   "source": [
    "my_lis = [1, 2, 3, 4,6]\n",
    "length = len(my_lis)\n",
    "for i in range(length):\n",
    "    if my_lis[i] == 4:\n",
    "        my_lis[i]=5\n",
    "\n",
    "my_lis"
   ]
  },
  {
   "cell_type": "markdown",
   "id": "0038ca98-5922-4bcd-90d9-a16b96717427",
   "metadata": {},
   "source": [
    "### Write a program that can convert a 2D list to 1D listWrite a program that can print "
   ]
  },
  {
   "cell_type": "code",
   "execution_count": 294,
   "id": "2711054b-7261-4cce-912b-e64334d253a3",
   "metadata": {},
   "outputs": [
    {
     "data": {
      "text/plain": [
       "array([1, 2, 3, 4, 6, 1, 2, 3, 4, 6, 1, 2, 3, 4, 6])"
      ]
     },
     "execution_count": 294,
     "metadata": {},
     "output_type": "execute_result"
    }
   ],
   "source": [
    "import numpy as np\n",
    "my_lis = [[1, 2, 3, 4,6],[1, 2, 3, 4,6],[1, 2, 3, 4,6]]\n",
    "array = np.array(my_lis)\n",
    "array.flatten()"
   ]
  },
  {
   "cell_type": "markdown",
   "id": "76d36c58-be0f-480e-a9f6-8618117549b5",
   "metadata": {},
   "source": [
    "### Write a program that can perform union and intersection on 2 given list. "
   ]
  },
  {
   "cell_type": "code",
   "execution_count": 307,
   "id": "16d747ca-01d5-498b-9fcd-546afac2ae7f",
   "metadata": {},
   "outputs": [
    {
     "name": "stdout",
     "output_type": "stream",
     "text": [
      "{5}\n",
      "{1, 2, 3, 4, 5, 6, 7, 8, 9, 100}\n"
     ]
    }
   ],
   "source": [
    "my_lis = [1, 2, 3, 4, 6,5]\n",
    "my_lis1 = (5, 7, 9, 8, 100)\n",
    "\n",
    "# Convert lists to sets and find the intersection\n",
    "intersection = set(my_lis).intersection(my_lis1)  # Using the intersection method\n",
    "# Alternatively, you could use: intersection = set(my_lis) & set(my_lis1)  # Using the & operator\n",
    "\n",
    "union = set(my_lis).union(my_lis1)\n",
    "\n",
    "print(intersection)  # This will print the intersection of the two lists\n",
    "print(union)"
   ]
  },
  {
   "cell_type": "markdown",
   "id": "8b5734a1-ed53-4f66-b58a-d4811ff5459b",
   "metadata": {},
   "source": [
    "### the max item of each row of a matrix"
   ]
  },
  {
   "cell_type": "code",
   "execution_count": 314,
   "id": "40b98b30-67e4-49c8-b507-a774609cd798",
   "metadata": {},
   "outputs": [
    {
     "name": "stdout",
     "output_type": "stream",
     "text": [
      "6\n",
      "7\n",
      "10\n"
     ]
    }
   ],
   "source": [
    "my_lis = [[1, 2, 3, 4,6],[1, 2, 7, 4,6],[1, 2, 3, 10,6]]\n",
    "for i in my_lis:\n",
    "    print(max(i))"
   ]
  },
  {
   "cell_type": "markdown",
   "id": "5da3c711-ba39-40ee-8ff2-b46b50abb479",
   "metadata": {},
   "source": [
    "### Write a program that can check if you can perform matrix multiplication on 2 matrices \n"
   ]
  },
  {
   "cell_type": "code",
   "execution_count": 332,
   "id": "c1147b28-1b60-4016-877a-98f488c426fd",
   "metadata": {},
   "outputs": [
    {
     "name": "stdout",
     "output_type": "stream",
     "text": [
      "possible\n"
     ]
    }
   ],
   "source": [
    "import numpy as np\n",
    "my_lis = [[1, 2, 3, 4,6],[1, 2, 7, 4,6],[1, 2, 3, 10,6]]\n",
    "my_lis1 =[[1, 2, 3],[1, 2, 7],[1, 2, 3],[1, 2, 7],[1, 2, 3]]\n",
    "array1 = np.array(my_lis)\n",
    "array2 = np.array(my_lis1)\n",
    "a,b = array1.shape\n",
    "c,d = array2.shape\n",
    "if b==c:\n",
    "    print(\"possible\")\n",
    "else:\n",
    "    print(\"not\")"
   ]
  },
  {
   "cell_type": "markdown",
   "id": "14dc8e34-708b-4a63-b7dd-5e41ae4cac4c",
   "metadata": {},
   "source": [
    "### Write a program to perform matrix multiplication on 2 matrices"
   ]
  },
  {
   "cell_type": "code",
   "execution_count": 14,
   "id": "98645f1c-52e7-449e-a300-06da2263dad2",
   "metadata": {},
   "outputs": [
    {
     "name": "stdout",
     "output_type": "stream",
     "text": [
      "[[ 16  32  72]\n",
      " [ 20  40  84]\n",
      " [ 22  44 114]]\n"
     ]
    }
   ],
   "source": [
    "import numpy as np\n",
    "my_lis = [[1, 2, 3, 4,6],[1, 2, 7, 4,6],[1, 2, 3, 10,6]]\n",
    "my_lis1 =[[1, 2, 3],[1, 2, 7],[1, 2, 3],[1, 2, 7],[1, 2, 3]]\n",
    "arr1 = np.array(my_lis)\n",
    "arr2 = np.array(my_lis1)\n",
    "\n",
    "result2 = np.dot(arr1,arr2)\n",
    "print(result2)"
   ]
  },
  {
   "cell_type": "markdown",
   "id": "ea724d89-41eb-44ec-822d-fb2e447d0fd1",
   "metadata": {},
   "source": [
    "### Write a program that can find the most used word in a bollywood song\r\n",
    "\n"
   ]
  },
  {
   "cell_type": "code",
   "execution_count": 59,
   "id": "04d55903-2e84-41c7-a78b-28076791b123",
   "metadata": {},
   "outputs": [
    {
     "name": "stdout",
     "output_type": "stream",
     "text": [
      "The most used word is 'ho'.\n"
     ]
    }
   ],
   "source": [
    "# Example song lyrics\n",
    "lyrics = '''Tum hi ho, ab tum hi ho\n",
    "Zindagi ab tum hi ho\n",
    "Chain bhi, mera dard bhi\n",
    "Meri aashiqui ab tum hi ho\n",
    "ho ho ho ho ho ho ho ho \n",
    "'''\n",
    "\n",
    "# Split the lyrics into words and clean them\n",
    "words = lyrics.lower().split()\n",
    "\n",
    "# Find the most used word\n",
    "most_used_word = max(words, key=words.count)\n",
    "\n",
    "print(f\"The most used word is '{most_used_word}'.\")\n"
   ]
  },
  {
   "cell_type": "markdown",
   "id": "8cdb7056-ac46-45ba-a9a6-8d90b4dcf351",
   "metadata": {},
   "source": [
    "### Assume a list with numbers from 1 to 10 and then convert it into a dictionary where the key would be the numbers of the list and the values would be the square of those numbers."
   ]
  },
  {
   "cell_type": "code",
   "execution_count": 85,
   "id": "7baa4634-0ead-41b6-99ff-9b7781c12c8f",
   "metadata": {},
   "outputs": [
    {
     "name": "stdout",
     "output_type": "stream",
     "text": [
      "{1: 1, 2: 4, 3: 9, 4: 16, 5: 25, 6: 36, 7: 49}\n"
     ]
    }
   ],
   "source": [
    "my_lis = [1,2,3,4,5,6,7]\n",
    "my_dict = {x: x**2 for x in my_lis}\n",
    "print(my_dict)"
   ]
  },
  {
   "cell_type": "markdown",
   "id": "568e48f6-2fbd-4900-8094-887e0d8a1a51",
   "metadata": {},
   "source": [
    "### Write a program to merge two given dictionary"
   ]
  },
  {
   "cell_type": "code",
   "execution_count": 92,
   "id": "39d87175-f820-4fa6-945f-d6f4e606d97b",
   "metadata": {},
   "outputs": [
    {
     "name": "stdout",
     "output_type": "stream",
     "text": [
      "{1: 1, 2: 4, 3: 9, 4: 16, 5: 25, 6: 36, 7: 49, 20: 1, 30: 4, 40: 9, 50: 16, 60: 25, 70: 36}\n"
     ]
    }
   ],
   "source": [
    "dict1 = {1: 1, 2: 4, 3: 9, 4: 16, 5: 25, 6: 36, 7: 49}\n",
    "dict2 = {20: 1, 30: 4, 40: 9, 50: 16, 60: 25, 70: 36}\n",
    "my_dict = dict1 | dict2\n",
    "print(my_dict)"
   ]
  },
  {
   "cell_type": "markdown",
   "id": "5644a9da-b1f4-4834-9ffe-417804aafb34",
   "metadata": {},
   "source": [
    "### Write a program to swap the key value pair for max and min values\n",
    "            Eg if the dict is like this {‘a’:1,’b’:2,’c’:3}\n",
    "           Output should be {a:3,b:2,c:1}\n"
   ]
  },
  {
   "cell_type": "code",
   "execution_count": 101,
   "id": "b6953bde-cd31-4719-b764-5e6331cf2029",
   "metadata": {},
   "outputs": [
    {
     "name": "stdout",
     "output_type": "stream",
     "text": [
      "{'a': 1, 'b': 2, 'c': 3, 'd': 4}\n"
     ]
    }
   ],
   "source": [
    "dict1 = {'a': 1, 'b': 4, 'c': 2,'d': 3}\n",
    "list1 = dict1.keys()\n",
    "list2 = dict1.values()\n",
    "sorted_list = sorted(list2)\n",
    "dict1 = dict(zip(list1,sorted_list))\n",
    "print(dict1)"
   ]
  },
  {
   "cell_type": "markdown",
   "id": "3086c0b2-a7a0-4cd4-86e7-7260c47e30ef",
   "metadata": {},
   "source": [
    "### Write a function that accepts a string and returns the number of upper case chars and lower case chars as a dictionary"
   ]
  },
  {
   "cell_type": "code",
   "execution_count": 105,
   "id": "e2c9afe9-da77-41c6-8f0d-a2f23d474509",
   "metadata": {},
   "outputs": [
    {
     "name": "stdin",
     "output_type": "stream",
     "text": [
      "Enter a string:  hello HI Bol ke\n"
     ]
    },
    {
     "name": "stdout",
     "output_type": "stream",
     "text": [
      "{'uppercase': 3, 'lowercase': 9}\n"
     ]
    }
   ],
   "source": [
    "def count_case_chars(input_string):\n",
    "    # Initialize the dictionary to store the count of uppercase and lowercase characters\n",
    "    case_count = {\"uppercase\": 0, \"lowercase\": 0}\n",
    "    \n",
    "    # Loop through each character in the string\n",
    "    for char in input_string:\n",
    "        if char.isupper():  # Check if the character is uppercase\n",
    "            case_count[\"uppercase\"] += 1\n",
    "        elif char.islower():  # Check if the character is lowercase\n",
    "            case_count[\"lowercase\"] += 1\n",
    "    \n",
    "    return case_count\n",
    "\n",
    "# Example usage:\n",
    "input_string = input(\"Enter a string: \")\n",
    "result = count_case_chars(input_string)\n",
    "print(result)\n",
    "\n",
    "    "
   ]
  },
  {
   "cell_type": "markdown",
   "id": "e926bbaa-da66-44b9-a908-fbba1b134df0",
   "metadata": {},
   "source": [
    "### Write a dummy program that can perform login and registration using a menu driven program\n"
   ]
  },
  {
   "cell_type": "code",
   "execution_count": 108,
   "id": "ec98494b-2304-4627-99c0-58abc9a0be79",
   "metadata": {},
   "outputs": [
    {
     "name": "stdout",
     "output_type": "stream",
     "text": [
      "\n",
      "--- Menu ---\n",
      "1. Register\n",
      "2. Login\n",
      "3. Exit\n"
     ]
    },
    {
     "name": "stdin",
     "output_type": "stream",
     "text": [
      "Choose an option:  3\n"
     ]
    },
    {
     "name": "stdout",
     "output_type": "stream",
     "text": [
      "Exiting program. Goodbye!\n"
     ]
    }
   ],
   "source": [
    "# Dummy login and registration program\n",
    "users_db = {}  # A dictionary to store username and password\n",
    "\n",
    "def register():\n",
    "    print(\"\\n--- Register ---\")\n",
    "    username = input(\"Enter username: \")\n",
    "    if username in users_db:\n",
    "        print(\"Username already exists. Please try again.\")\n",
    "        return\n",
    "    password = input(\"Enter password: \")\n",
    "    users_db[username] = password\n",
    "    print(f\"Registration successful! Welcome, {username}.\")\n",
    "\n",
    "def login():\n",
    "    print(\"\\n--- Login ---\")\n",
    "    username = input(\"Enter username: \")\n",
    "    password = input(\"Enter password: \")\n",
    "    \n",
    "    if username in users_db and users_db[username] == password:\n",
    "        print(f\"Login successful! Welcome back, {username}.\")\n",
    "    else:\n",
    "        print(\"Invalid credentials. Please try again.\")\n",
    "\n",
    "def menu():\n",
    "    while True:\n",
    "        print(\"\\n--- Menu ---\")\n",
    "        print(\"1. Register\")\n",
    "        print(\"2. Login\")\n",
    "        print(\"3. Exit\")\n",
    "        \n",
    "        choice = input(\"Choose an option: \")\n",
    "        \n",
    "        if choice == \"1\":\n",
    "            register()\n",
    "        elif choice == \"2\":\n",
    "            login()\n",
    "        elif choice == \"3\":\n",
    "            print(\"Exiting program. Goodbye!\")\n",
    "            break\n",
    "        else:\n",
    "            print(\"Invalid choice. Please try again.\")\n",
    "\n",
    "# Run the menu-driven program\n",
    "menu()\n"
   ]
  },
  {
   "cell_type": "markdown",
   "id": "63ca1b31-48eb-4078-8731-6138e8011461",
   "metadata": {},
   "source": [
    "### Write a program that accepts neighbors(set of 2D co-ordinates) and a point(single 2D co-ordinate) and tells nearest neighbor(in terms of euclidean distance)"
   ]
  },
  {
   "cell_type": "code",
   "execution_count": 111,
   "id": "a757a755-1fc1-45d4-bcfe-509eb4064e4a",
   "metadata": {},
   "outputs": [
    {
     "name": "stdout",
     "output_type": "stream",
     "text": [
      "The nearest neighbor to the point (3, 3) is (1, 2).\n"
     ]
    }
   ],
   "source": [
    "import math\n",
    "\n",
    "def euclidean_distance(point1, point2):\n",
    "    # Calculate the Euclidean distance between two points\n",
    "    return math.sqrt((point2[0] - point1[0])**2 + (point2[1] - point1[1])**2)\n",
    "\n",
    "def find_nearest_neighbor(neighbors, point):\n",
    "    nearest_neighbor = None\n",
    "    min_distance = float('inf')  # Initialize with a large number\n",
    "    \n",
    "    # Iterate through each neighbor and calculate the distance to the point\n",
    "    for neighbor in neighbors:\n",
    "        distance = euclidean_distance(point, neighbor)\n",
    "        if distance < min_distance:\n",
    "            min_distance = distance\n",
    "            nearest_neighbor = neighbor\n",
    "    \n",
    "    return nearest_neighbor\n",
    "\n",
    "# Example usage:\n",
    "neighbors = {(1, 2), (4, 6), (7, 8), (2, 1)}\n",
    "point = (3, 3)\n",
    "\n",
    "nearest = find_nearest_neighbor(neighbors, point)\n",
    "print(f\"The nearest neighbor to the point {point} is {nearest}.\")\n"
   ]
  },
  {
   "cell_type": "code",
   "execution_count": null,
   "id": "a046956b-aa1a-4b1e-92ba-8ddab635be0b",
   "metadata": {},
   "outputs": [],
   "source": []
  }
 ],
 "metadata": {
  "kernelspec": {
   "display_name": "anaconda-panel-2023.05-py310",
   "language": "python",
   "name": "conda-env-anaconda-panel-2023.05-py310-py"
  },
  "language_info": {
   "codemirror_mode": {
    "name": "ipython",
    "version": 3
   },
   "file_extension": ".py",
   "mimetype": "text/x-python",
   "name": "python",
   "nbconvert_exporter": "python",
   "pygments_lexer": "ipython3",
   "version": "3.11.5"
  }
 },
 "nbformat": 4,
 "nbformat_minor": 5
}
