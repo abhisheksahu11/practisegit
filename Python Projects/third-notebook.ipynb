{
 "cells": [
  {
   "cell_type": "markdown",
   "id": "cc421e43-08cd-4261-a824-9891b0fe6264",
   "metadata": {},
   "source": [
    "### Reverse a String using Python"
   ]
  },
  {
   "cell_type": "code",
   "execution_count": 6,
   "id": "5df92796-4430-4ad0-a352-e2369dbc3345",
   "metadata": {},
   "outputs": [
    {
     "name": "stdout",
     "output_type": "stream",
     "text": [
      "sahu abhi\n"
     ]
    }
   ],
   "source": [
    "def reverse_string(string):\n",
    "    return string[::-1]\n",
    "\n",
    "a = \"ihba uhas\"\n",
    "print(reverse_string(a))"
   ]
  },
  {
   "cell_type": "markdown",
   "id": "1da1fd3c-fff7-477d-b17e-80e85b17c2b6",
   "metadata": {},
   "source": [
    "### Buddy string"
   ]
  },
  {
   "cell_type": "code",
   "execution_count": 9,
   "id": "612c291b-0aad-4c24-8934-cb368332e243",
   "metadata": {},
   "outputs": [
    {
     "name": "stdout",
     "output_type": "stream",
     "text": [
      "True\n"
     ]
    }
   ],
   "source": [
    "def buddyStrings(s, goal):\n",
    "    if len(s) != len(goal):\n",
    "        return False\n",
    "    if s == goal:\n",
    "        return len(set(s)) < len(s)\n",
    "    diffs = [(a, b)for a, b in zip(s, goal) if a != b]\n",
    "    return len(diffs) == 2 and diffs[0] == diffs[1][::-1]\n",
    "\n",
    "s = \"abc\"\n",
    "goal = \"bac\"\n",
    "\n",
    "print(buddyStrings(s, goal))"
   ]
  },
  {
   "cell_type": "code",
   "execution_count": null,
   "id": "e7e6b021-15e2-43f8-80d8-27a5e0652f84",
   "metadata": {},
   "outputs": [],
   "source": []
  }
 ],
 "metadata": {
  "kernelspec": {
   "display_name": "anaconda-panel-2023.05-py310",
   "language": "python",
   "name": "conda-env-anaconda-panel-2023.05-py310-py"
  },
  "language_info": {
   "codemirror_mode": {
    "name": "ipython",
    "version": 3
   },
   "file_extension": ".py",
   "mimetype": "text/x-python",
   "name": "python",
   "nbconvert_exporter": "python",
   "pygments_lexer": "ipython3",
   "version": "3.11.5"
  }
 },
 "nbformat": 4,
 "nbformat_minor": 5
}
