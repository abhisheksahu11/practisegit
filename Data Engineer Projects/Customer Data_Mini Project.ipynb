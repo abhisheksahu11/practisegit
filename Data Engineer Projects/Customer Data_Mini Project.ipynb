{
 "cells": [
  {
   "cell_type": "markdown",
   "metadata": {
    "application/vnd.databricks.v1+cell": {
     "cellMetadata": {
      "byteLimit": 2048000,
      "rowLimit": 10000
     },
     "inputWidgets": {},
     "nuid": "ba078a1c-0e69-437e-bf75-9bfdbc086077",
     "showTitle": false,
     "tableResultSettingsMap": {},
     "title": ""
    }
   },
   "source": [
    "## Read and Process data"
   ]
  },
  {
   "cell_type": "code",
   "execution_count": 0,
   "metadata": {
    "application/vnd.databricks.v1+cell": {
     "cellMetadata": {
      "byteLimit": 2048000,
      "rowLimit": 10000
     },
     "inputWidgets": {},
     "nuid": "400d6a43-ba66-451e-8903-06c8701bc37b",
     "showTitle": false,
     "tableResultSettingsMap": {},
     "title": ""
    }
   },
   "outputs": [
    {
     "output_type": "display_data",
     "data": {
      "text/html": [
       "\n",
       "            <div>\n",
       "                <p><b>SparkSession - hive</b></p>\n",
       "                \n",
       "        <div>\n",
       "            <p><b>SparkContext</b></p>\n",
       "\n",
       "            <p><a href=\"/?o=599128788097651#setting/sparkui/0314-142702-859sxmpy/driver-5852073282184019813\">Spark UI</a></p>\n",
       "\n",
       "            <dl>\n",
       "              <dt>Version</dt>\n",
       "                <dd><code>v3.3.2</code></dd>\n",
       "              <dt>Master</dt>\n",
       "                <dd><code>local[8]</code></dd>\n",
       "              <dt>AppName</dt>\n",
       "                <dd><code>Databricks Shell</code></dd>\n",
       "            </dl>\n",
       "        </div>\n",
       "        \n",
       "            </div>\n",
       "        "
      ]
     },
     "metadata": {
      "application/vnd.databricks.v1+output": {
       "addedWidgets": {},
       "arguments": {},
       "data": "\n            <div>\n                <p><b>SparkSession - hive</b></p>\n                \n        <div>\n            <p><b>SparkContext</b></p>\n\n            <p><a href=\"/?o=599128788097651#setting/sparkui/0314-142702-859sxmpy/driver-5852073282184019813\">Spark UI</a></p>\n\n            <dl>\n              <dt>Version</dt>\n                <dd><code>v3.3.2</code></dd>\n              <dt>Master</dt>\n                <dd><code>local[8]</code></dd>\n              <dt>AppName</dt>\n                <dd><code>Databricks Shell</code></dd>\n            </dl>\n        </div>\n        \n            </div>\n        ",
       "datasetInfos": [],
       "metadata": {},
       "removedWidgets": [],
       "textData": null,
       "type": "htmlSandbox"
      }
     },
     "output_type": "display_data"
    }
   ],
   "source": [
    "from pyspark.sql import SparkSession\n",
    "spark = SparkSession.builder.appName(\"CustomerDataProcessing\").getOrCreate()\n",
    "spark"
   ]
  },
  {
   "cell_type": "code",
   "execution_count": 0,
   "metadata": {
    "application/vnd.databricks.v1+cell": {
     "cellMetadata": {
      "byteLimit": 2048000,
      "rowLimit": 10000
     },
     "inputWidgets": {},
     "nuid": "cfff0f50-a950-42ab-aba8-60a30fa192de",
     "showTitle": false,
     "tableResultSettingsMap": {},
     "title": ""
    }
   },
   "outputs": [],
   "source": [
    "df = spark.read.format(\"csv\").option(\"header\", \"true\").load(\"dbfs:/FileStore/shared_uploads/beingabhisheksahu@gmail.com/Customers.csv\")"
   ]
  },
  {
   "cell_type": "code",
   "execution_count": 0,
   "metadata": {
    "application/vnd.databricks.v1+cell": {
     "cellMetadata": {
      "byteLimit": 2048000,
      "rowLimit": 10000
     },
     "inputWidgets": {},
     "nuid": "5797bbe3-1d52-4f61-87dc-0a2090ca33a4",
     "showTitle": false,
     "tableResultSettingsMap": {},
     "title": ""
    }
   },
   "outputs": [
    {
     "output_type": "stream",
     "name": "stdout",
     "output_type": "stream",
     "text": [
      "+-----------+------+---------+--------+----------+-------------+------+--------------------+------------+-------------+--------------+------------+---------+\n|CustomerKey|Prefix|FirstName|LastName| BirthDate|MaritalStatus|Gender|        EmailAddress|AnnualIncome|TotalChildren|EducationLevel|  Occupation|HomeOwner|\n+-----------+------+---------+--------+----------+-------------+------+--------------------+------------+-------------+--------------+------------+---------+\n|      11000|   MR.|      JON|    YANG|04-08-1966|            M|     M|jon24@adventure-w...|    $90,000 |            2|     Bachelors|Professional|        Y|\n|      11001|   MR.|   EUGENE|   HUANG| 5/14/1965|            S|     M|eugene10@adventur...|    $60,000 |            3|     Bachelors|Professional|        N|\n|      11002|   MR.|    RUBEN|  TORRES|08-12-1965|            M|     M|ruben35@adventure...|    $60,000 |            3|     Bachelors|Professional|        Y|\n|      11003|   MS.|  CHRISTY|     ZHU| 2/15/1968|            S|     F|christy12@adventu...|    $70,000 |            0|     Bachelors|Professional|        N|\n|      11004|  MRS.|ELIZABETH| JOHNSON|08-08-1968|            S|     F|elizabeth5@advent...|    $80,000 |            5|     Bachelors|Professional|        Y|\n+-----------+------+---------+--------+----------+-------------+------+--------------------+------------+-------------+--------------+------------+---------+\nonly showing top 5 rows\n\n"
     ]
    }
   ],
   "source": [
    "df.show(5)"
   ]
  },
  {
   "cell_type": "code",
   "execution_count": 0,
   "metadata": {
    "application/vnd.databricks.v1+cell": {
     "cellMetadata": {
      "byteLimit": 2048000,
      "rowLimit": 10000
     },
     "inputWidgets": {},
     "nuid": "bfcac4a6-52a7-46b5-a867-9b88254439db",
     "showTitle": false,
     "tableResultSettingsMap": {},
     "title": ""
    }
   },
   "outputs": [
    {
     "output_type": "stream",
     "name": "stdout",
     "output_type": "stream",
     "text": [
      "root\n |-- CustomerKey: string (nullable = true)\n |-- Prefix: string (nullable = true)\n |-- FirstName: string (nullable = true)\n |-- LastName: string (nullable = true)\n |-- BirthDate: string (nullable = true)\n |-- MaritalStatus: string (nullable = true)\n |-- Gender: string (nullable = true)\n |-- EmailAddress: string (nullable = true)\n |-- AnnualIncome: string (nullable = true)\n |-- TotalChildren: string (nullable = true)\n |-- EducationLevel: string (nullable = true)\n |-- Occupation: string (nullable = true)\n |-- HomeOwner: string (nullable = true)\n\n"
     ]
    }
   ],
   "source": [
    "df.printSchema()"
   ]
  },
  {
   "cell_type": "code",
   "execution_count": 0,
   "metadata": {
    "application/vnd.databricks.v1+cell": {
     "cellMetadata": {
      "byteLimit": 2048000,
      "rowLimit": 10000
     },
     "inputWidgets": {},
     "nuid": "db274401-7806-46e9-9dd4-3e65850464eb",
     "showTitle": false,
     "tableResultSettingsMap": {},
     "title": ""
    }
   },
   "outputs": [],
   "source": [
    "from pyspark.sql.functions import *\n",
    "\n",
    "df =  df.withColumn(\"BirthDate\", to_date(col(\"BirthDate\"), \"yyyy-MM-dd\"))\\\n",
    "       .withColumn('HomeOwner',col(\"HomeOwner\").cast('boolean'))"
   ]
  },
  {
   "cell_type": "code",
   "execution_count": 0,
   "metadata": {
    "application/vnd.databricks.v1+cell": {
     "cellMetadata": {
      "byteLimit": 2048000,
      "rowLimit": 10000
     },
     "inputWidgets": {},
     "nuid": "33f558e4-67ca-4db6-b62b-4224f2c8eeab",
     "showTitle": false,
     "tableResultSettingsMap": {},
     "title": ""
    }
   },
   "outputs": [
    {
     "output_type": "stream",
     "name": "stdout",
     "output_type": "stream",
     "text": [
      "root\n |-- CustomerKey: string (nullable = true)\n |-- Prefix: string (nullable = true)\n |-- FirstName: string (nullable = true)\n |-- LastName: string (nullable = true)\n |-- BirthDate: date (nullable = true)\n |-- MaritalStatus: string (nullable = true)\n |-- Gender: string (nullable = true)\n |-- EmailAddress: string (nullable = true)\n |-- AnnualIncome: string (nullable = true)\n |-- TotalChildren: string (nullable = true)\n |-- EducationLevel: string (nullable = true)\n |-- Occupation: string (nullable = true)\n |-- HomeOwner: boolean (nullable = true)\n\n"
     ]
    }
   ],
   "source": [
    "df.printSchema()"
   ]
  },
  {
   "cell_type": "code",
   "execution_count": 0,
   "metadata": {
    "application/vnd.databricks.v1+cell": {
     "cellMetadata": {
      "byteLimit": 2048000,
      "rowLimit": 10000
     },
     "inputWidgets": {},
     "nuid": "e8e85a0a-c959-44e4-8972-61fb8fa5c41b",
     "showTitle": false,
     "tableResultSettingsMap": {},
     "title": ""
    }
   },
   "outputs": [],
   "source": [
    "df = df.fillna({'Occupation':'Unknown'})"
   ]
  },
  {
   "cell_type": "code",
   "execution_count": 0,
   "metadata": {
    "application/vnd.databricks.v1+cell": {
     "cellMetadata": {
      "byteLimit": 2048000,
      "rowLimit": 10000
     },
     "inputWidgets": {},
     "nuid": "2826a655-8d3f-4ad9-8e7b-047349cc734d",
     "showTitle": false,
     "tableResultSettingsMap": {},
     "title": ""
    }
   },
   "outputs": [],
   "source": [
    "\n",
    "df = df.withColumn(\"BirthYear\", year(col(\"BirthDate\")))"
   ]
  },
  {
   "cell_type": "code",
   "execution_count": 0,
   "metadata": {
    "application/vnd.databricks.v1+cell": {
     "cellMetadata": {
      "byteLimit": 2048000,
      "rowLimit": 10000
     },
     "inputWidgets": {},
     "nuid": "60f6f8d3-f912-4e48-8574-89b6364960c5",
     "showTitle": false,
     "tableResultSettingsMap": {},
     "title": ""
    }
   },
   "outputs": [
    {
     "output_type": "stream",
     "name": "stdout",
     "output_type": "stream",
     "text": [
      "root\n |-- CustomerKey: string (nullable = true)\n |-- Prefix: string (nullable = true)\n |-- FirstName: string (nullable = true)\n |-- LastName: string (nullable = true)\n |-- BirthDate: date (nullable = true)\n |-- MaritalStatus: string (nullable = true)\n |-- Gender: string (nullable = true)\n |-- EmailAddress: string (nullable = true)\n |-- AnnualIncome: string (nullable = true)\n |-- TotalChildren: string (nullable = true)\n |-- EducationLevel: string (nullable = true)\n |-- Occupation: string (nullable = false)\n |-- HomeOwner: boolean (nullable = true)\n |-- BirthYear: integer (nullable = true)\n\n+-----------+------+---------+--------+---------+-------------+------+--------------------+------------+-------------+--------------+------------+---------+---------+\n|CustomerKey|Prefix|FirstName|LastName|BirthDate|MaritalStatus|Gender|        EmailAddress|AnnualIncome|TotalChildren|EducationLevel|  Occupation|HomeOwner|BirthYear|\n+-----------+------+---------+--------+---------+-------------+------+--------------------+------------+-------------+--------------+------------+---------+---------+\n|      11000|   MR.|      JON|    YANG|     null|            M|     M|jon24@adventure-w...|    $90,000 |            2|     Bachelors|Professional|     true|     null|\n|      11001|   MR.|   EUGENE|   HUANG|     null|            S|     M|eugene10@adventur...|    $60,000 |            3|     Bachelors|Professional|    false|     null|\n|      11002|   MR.|    RUBEN|  TORRES|     null|            M|     M|ruben35@adventure...|    $60,000 |            3|     Bachelors|Professional|     true|     null|\n+-----------+------+---------+--------+---------+-------------+------+--------------------+------------+-------------+--------------+------------+---------+---------+\nonly showing top 3 rows\n\n"
     ]
    }
   ],
   "source": [
    "df.printSchema()\n",
    "df.show(3)"
   ]
  },
  {
   "cell_type": "code",
   "execution_count": 0,
   "metadata": {
    "application/vnd.databricks.v1+cell": {
     "cellMetadata": {
      "byteLimit": 2048000,
      "rowLimit": 10000
     },
     "inputWidgets": {},
     "nuid": "80b033ef-2429-4fd9-991b-e81b264e3967",
     "showTitle": false,
     "tableResultSettingsMap": {},
     "title": ""
    }
   },
   "outputs": [
    {
     "output_type": "stream",
     "name": "stdout",
     "output_type": "stream",
     "text": [
      "Out[13]: [Row(count(DISTINCT Occupation)=5)]"
     ]
    }
   ],
   "source": [
    "unique_Occupation = df.select(countDistinct(\"Occupation\")).collect()\n",
    "unique_Occupation"
   ]
  },
  {
   "cell_type": "code",
   "execution_count": 0,
   "metadata": {
    "application/vnd.databricks.v1+cell": {
     "cellMetadata": {
      "byteLimit": 2048000,
      "rowLimit": 10000
     },
     "inputWidgets": {},
     "nuid": "df5c31aa-73c4-49e3-b590-62028d8bede4",
     "showTitle": false,
     "tableResultSettingsMap": {},
     "title": ""
    }
   },
   "outputs": [
    {
     "output_type": "stream",
     "name": "stdout",
     "output_type": "stream",
     "text": [
      "+--------------+-----+\n|    Occupation|count|\n+--------------+-----+\n|        Manual| 2353|\n|      Clerical| 2859|\n|    Management| 3011|\n|Skilled Manual| 4501|\n|  Professional| 5424|\n+--------------+-----+\n\n"
     ]
    }
   ],
   "source": [
    "df.groupBy(\"Occupation\").count().orderBy(col(\"count\")).show()"
   ]
  },
  {
   "cell_type": "code",
   "execution_count": 0,
   "metadata": {
    "application/vnd.databricks.v1+cell": {
     "cellMetadata": {
      "byteLimit": 2048000,
      "rowLimit": 10000
     },
     "inputWidgets": {},
     "nuid": "05477bca-3b8a-42f8-b412-53d4923a5e6e",
     "showTitle": false,
     "tableResultSettingsMap": {},
     "title": ""
    }
   },
   "outputs": [
    {
     "output_type": "stream",
     "name": "stdout",
     "output_type": "stream",
     "text": [
      "+--------------+-----+----+\n|    Occupation|false|true|\n+--------------+-----+----+\n|    Management|  802|2209|\n|  Professional| 1794|3630|\n|      Clerical|  935|1924|\n|        Manual| 1109|1244|\n|Skilled Manual| 1248|3253|\n+--------------+-----+----+\n\n"
     ]
    }
   ],
   "source": [
    "df.groupBy(\"Occupation\").pivot(\"HomeOwner\").count().show()"
   ]
  },
  {
   "cell_type": "code",
   "execution_count": 0,
   "metadata": {
    "application/vnd.databricks.v1+cell": {
     "cellMetadata": {
      "byteLimit": 2048000,
      "rowLimit": 10000
     },
     "inputWidgets": {},
     "nuid": "bc832117-8241-4d26-a8f2-6951d3bbb7c7",
     "showTitle": false,
     "tableResultSettingsMap": {},
     "title": ""
    }
   },
   "outputs": [],
   "source": [
    "from pyspark.sql import SparkSession\n",
    "from pyspark.sql.window import Window\n",
    "from pyspark.sql.functions import col, rank, dense_rank\n",
    "\n",
    "# Define window specification\n",
    "window_spec = Window.partitionBy(\"Occupation\").orderBy(col(\"AnnualIncome\").desc())\n",
    "\n",
    "# Apply ranking functions\n",
    "df = df.withColumn(\"rank\", rank().over(window_spec)) \\\n",
    "       .withColumn(\"dense_rank\", dense_rank().over(window_spec))\n"
   ]
  },
  {
   "cell_type": "code",
   "execution_count": 0,
   "metadata": {
    "application/vnd.databricks.v1+cell": {
     "cellMetadata": {
      "byteLimit": 2048000,
      "rowLimit": 10000
     },
     "inputWidgets": {},
     "nuid": "63e42076-cc76-4a62-9b85-5cb089e5ad51",
     "showTitle": false,
     "tableResultSettingsMap": {},
     "title": ""
    }
   },
   "outputs": [
    {
     "output_type": "stream",
     "name": "stdout",
     "output_type": "stream",
     "text": [
      "+----------+------------+----+----------+\n|Occupation|AnnualIncome|rank|dense_rank|\n+----------+------------+----+----------+\n|  Clerical|    $40,000 |   1|         1|\n|  Clerical|    $40,000 |   1|         1|\n|  Clerical|    $40,000 |   1|         1|\n|  Clerical|    $40,000 |   1|         1|\n|  Clerical|    $40,000 |   1|         1|\n+----------+------------+----+----------+\nonly showing top 5 rows\n\n"
     ]
    }
   ],
   "source": [
    "df.select(\"Occupation\",\"AnnualIncome\",\"rank\",\"dense_rank\").show(5)"
   ]
  },
  {
   "cell_type": "code",
   "execution_count": 0,
   "metadata": {
    "application/vnd.databricks.v1+cell": {
     "cellMetadata": {
      "byteLimit": 2048000,
      "rowLimit": 10000
     },
     "inputWidgets": {},
     "nuid": "ab4db146-e983-468f-bb74-c5a2d8f0d558",
     "showTitle": false,
     "tableResultSettingsMap": {},
     "title": ""
    }
   },
   "outputs": [
    {
     "output_type": "stream",
     "name": "stdout",
     "output_type": "stream",
     "text": [
      "+-----------------+\n|max(AnnualIncome)|\n+-----------------+\n|         $90,000 |\n+-----------------+\n\n"
     ]
    }
   ],
   "source": [
    "df.select(max(\"AnnualIncome\")).show()"
   ]
  },
  {
   "cell_type": "code",
   "execution_count": 0,
   "metadata": {
    "application/vnd.databricks.v1+cell": {
     "cellMetadata": {
      "byteLimit": 2048000,
      "rowLimit": 10000
     },
     "inputWidgets": {},
     "nuid": "23f6dbcd-d378-4441-89c5-6ca8f5274d1e",
     "showTitle": false,
     "tableResultSettingsMap": {},
     "title": ""
    }
   },
   "outputs": [
    {
     "output_type": "stream",
     "name": "stdout",
     "output_type": "stream",
     "text": [
      "Out[24]: 18148"
     ]
    }
   ],
   "source": [
    "df_annual_income = df.filter(col(\"AnnualIncome\") > lit(\"$ 50,000\"))\n",
    "df_annual_income.count()"
   ]
  },
  {
   "cell_type": "code",
   "execution_count": 0,
   "metadata": {
    "application/vnd.databricks.v1+cell": {
     "cellMetadata": {
      "byteLimit": 2048000,
      "rowLimit": 10000
     },
     "inputWidgets": {},
     "nuid": "5243b1ba-ea9e-48b7-b454-41aba1d92ac1",
     "showTitle": false,
     "tableResultSettingsMap": {},
     "title": ""
    }
   },
   "outputs": [
    {
     "output_type": "stream",
     "name": "stdout",
     "output_type": "stream",
     "text": [
      "+-------------------+--------+--------+\n|     EducationLevel| Highest|  Lowest|\n+-------------------+--------+--------+\n|          Bachelors|$90,000 |$10,000 |\n|    Graduate Degree|$90,000 |$10,000 |\n|        High School|$90,000 |$10,000 |\n|    Partial College|$90,000 |$10,000 |\n|Partial High School|$90,000 |$10,000 |\n+-------------------+--------+--------+\n\n"
     ]
    }
   ],
   "source": [
    "df.groupBy(\"EducationLevel\").agg(max(\"AnnualIncome\").alias(\"Highest\"),min(\"AnnualIncome\").alias(\"Lowest\")).show()"
   ]
  },
  {
   "cell_type": "code",
   "execution_count": 0,
   "metadata": {
    "application/vnd.databricks.v1+cell": {
     "cellMetadata": {
      "byteLimit": 2048000,
      "rowLimit": 10000
     },
     "inputWidgets": {},
     "nuid": "0e69067d-6724-4e32-b468-404023778749",
     "showTitle": false,
     "tableResultSettingsMap": {},
     "title": ""
    }
   },
   "outputs": [],
   "source": [
    "output_path = '/FileStore/tables/processed_customers'\n",
    "df.write.mode('overwrite').parquet(output_path)"
   ]
  }
 ],
 "metadata": {
  "application/vnd.databricks.v1+notebook": {
   "computePreferences": null,
   "dashboards": [],
   "environmentMetadata": {
    "base_environment": "",
    "client": "1"
   },
   "language": "python",
   "notebookMetadata": {
    "pythonIndentUnit": 4
   },
   "notebookName": "Mini Project",
   "widgets": {}
  }
 },
 "nbformat": 4,
 "nbformat_minor": 0
}
